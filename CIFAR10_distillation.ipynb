{
  "nbformat": 4,
  "nbformat_minor": 0,
  "metadata": {
    "colab": {
      "provenance": [],
      "authorship_tag": "ABX9TyPNXwa7cRPm4rxGkIOZfKY1",
      "include_colab_link": true
    },
    "kernelspec": {
      "name": "python3",
      "display_name": "Python 3"
    },
    "language_info": {
      "name": "python"
    }
  },
  "cells": [
    {
      "cell_type": "markdown",
      "metadata": {
        "id": "view-in-github",
        "colab_type": "text"
      },
      "source": [
        "<a href=\"https://colab.research.google.com/github/bec2148/mnist-finalproject/blob/main/CIFAR10_distillation.ipynb\" target=\"_parent\"><img src=\"https://colab.research.google.com/assets/colab-badge.svg\" alt=\"Open In Colab\"/></a>"
      ]
    },
    {
      "cell_type": "code",
      "execution_count": 1,
      "metadata": {
        "colab": {
          "base_uri": "https://localhost:8080/"
        },
        "id": "Rj_WcD0yJI5L",
        "outputId": "c548d91d-3dd3-4c17-f731-449562f5a735"
      },
      "outputs": [
        {
          "output_type": "stream",
          "name": "stdout",
          "text": [
            "torch.cuda.is_available() False\n"
          ]
        },
        {
          "output_type": "stream",
          "name": "stderr",
          "text": [
            "/usr/local/lib/python3.10/dist-packages/torch/cuda/__init__.py:128: UserWarning: CUDA initialization: Unexpected error from cudaGetDeviceCount(). Did you run some cuda functions before calling NumCudaDevices() that might have already set an error? Error 500: named symbol not found (Triggered internally at ../c10/cuda/CUDAFunctions.cpp:108.)\n",
            "  return torch._C._cuda_getDeviceCount() > 0\n"
          ]
        }
      ],
      "source": [
        "# Base code https://pytorch.org/tutorials/beginner/knowledge_distillation_tutorial.html\n",
        "\n",
        "import torch\n",
        "import torch.nn as nn\n",
        "import torch.optim as optim\n",
        "import torchvision.transforms as transforms\n",
        "import torchvision.datasets as datasets\n",
        "import time\n",
        "\n",
        "NUM_EPOCHS = 1\n",
        "\n",
        "# Check if GPU is available, and if not, use the CPU\n",
        "print(\"torch.cuda.is_available()\", torch.cuda.is_available())\n",
        "device = torch.device(\"cuda\" if torch.cuda.is_available() else \"cpu\")"
      ]
    },
    {
      "cell_type": "code",
      "source": [
        "# Below we are preprocessing data for CIFAR-10. We use an arbitrary batch size of 128.\n",
        "transforms_cifar = transforms.Compose([\n",
        "    transforms.ToTensor(),\n",
        "    transforms.Normalize(mean=[0.485, 0.456, 0.406], std=[0.229, 0.224, 0.225]),\n",
        "])\n",
        "\n",
        "# Loading the CIFAR-10 dataset:\n",
        "train_dataset = datasets.CIFAR10(root='./data', train=True, download=True, transform=transforms_cifar)\n",
        "test_dataset = datasets.CIFAR10(root='./data', train=False, download=True, transform=transforms_cifar)"
      ],
      "metadata": {
        "colab": {
          "base_uri": "https://localhost:8080/"
        },
        "id": "aqHimhmJJNbm",
        "outputId": "3a997a30-3deb-4f93-b17f-ad5b1aaebbcb"
      },
      "execution_count": 2,
      "outputs": [
        {
          "output_type": "stream",
          "name": "stdout",
          "text": [
            "Files already downloaded and verified\n",
            "Files already downloaded and verified\n"
          ]
        }
      ]
    },
    {
      "cell_type": "code",
      "source": [
        "# Comment back in for efficiency\n",
        "\n",
        "from torch.utils.data import Subset\n",
        "num_images_to_keep = 2000\n",
        "train_dataset = Subset(train_dataset, range(min(num_images_to_keep, 50_000)))\n",
        "test_dataset = Subset(test_dataset, range(min(num_images_to_keep, 10_000)))"
      ],
      "metadata": {
        "id": "ix96bctIJX-S"
      },
      "execution_count": 3,
      "outputs": []
    },
    {
      "cell_type": "code",
      "source": [
        "#Dataloaders\n",
        "train_loader = torch.utils.data.DataLoader(train_dataset, batch_size=128, shuffle=True, num_workers=2)\n",
        "test_loader = torch.utils.data.DataLoader(test_dataset, batch_size=128, shuffle=False, num_workers=2)"
      ],
      "metadata": {
        "id": "wi87xT1ZJik8"
      },
      "execution_count": 4,
      "outputs": []
    },
    {
      "cell_type": "code",
      "source": [
        "# Deeper neural network class to be used as teacher:\n",
        "class DeepNN(nn.Module):\n",
        "    def __init__(self, num_classes=10):\n",
        "        super(DeepNN, self).__init__()\n",
        "        self.features = nn.Sequential(\n",
        "            nn.Conv2d(3, 128, kernel_size=3, padding=1),\n",
        "            nn.ReLU(),\n",
        "            nn.Conv2d(128, 64, kernel_size=3, padding=1),\n",
        "            nn.ReLU(),\n",
        "            nn.MaxPool2d(kernel_size=2, stride=2),\n",
        "            nn.Conv2d(64, 64, kernel_size=3, padding=1),\n",
        "            nn.ReLU(),\n",
        "            nn.Conv2d(64, 32, kernel_size=3, padding=1),\n",
        "            nn.ReLU(),\n",
        "            nn.MaxPool2d(kernel_size=2, stride=2),\n",
        "        )\n",
        "        self.classifier = nn.Sequential(\n",
        "            nn.Linear(2048, 512),\n",
        "            nn.ReLU(),\n",
        "            nn.Dropout(0.1),\n",
        "            nn.Linear(512, num_classes)\n",
        "        )\n",
        "\n",
        "    def forward(self, x):\n",
        "        x = self.features(x)\n",
        "        x = torch.flatten(x, 1)\n",
        "        x = self.classifier(x)\n",
        "        return x\n",
        "\n",
        "# Lightweight neural network class to be used as student:\n",
        "class LightNN(nn.Module):\n",
        "    def __init__(self, num_classes=10, conv2_feature_count=10, linear_feature_count=128):\n",
        "        super(LightNN, self).__init__()\n",
        "        self.features = nn.Sequential(\n",
        "            nn.Conv2d(3, 16, kernel_size=3, padding=1),\n",
        "            nn.ReLU(),\n",
        "            nn.MaxPool2d(kernel_size=2, stride=2),\n",
        "            # Changed from (16, 16) -> (16, conv2_feature_count)\n",
        "            nn.Conv2d(16, conv2_feature_count, kernel_size=3, padding=1),\n",
        "            nn.ReLU(),\n",
        "            nn.MaxPool2d(kernel_size=2, stride=2),\n",
        "        )\n",
        "        self.classifier = nn.Sequential(\n",
        "            # Changed (1024, 256 -> 512, linear_feature_count)\n",
        "            nn.Linear(64 * conv2_feature_count, linear_feature_count),\n",
        "            nn.ReLU(),\n",
        "            nn.Dropout(0.1),\n",
        "            # Changed from 256 -> linear_feature_count\n",
        "            nn.Linear(linear_feature_count, num_classes)\n",
        "        )\n",
        "\n",
        "    def forward(self, x):\n",
        "        x = self.features(x)\n",
        "        x = torch.flatten(x, 1)\n",
        "        x = self.classifier(x)\n",
        "        return x"
      ],
      "metadata": {
        "id": "Qbo2CnyPJlRA"
      },
      "execution_count": 5,
      "outputs": []
    },
    {
      "cell_type": "code",
      "source": [
        "def train(model, train_loader, epochs, learning_rate, device):\n",
        "    criterion = nn.CrossEntropyLoss()\n",
        "    optimizer = optim.Adam(model.parameters(), lr=learning_rate)\n",
        "\n",
        "    model.train()\n",
        "\n",
        "    for epoch in range(epochs):\n",
        "        running_loss = 0.0\n",
        "        for inputs, labels in train_loader:\n",
        "            # inputs: A collection of batch_size images\n",
        "            # labels: A vector of dimensionality batch_size with integers denoting class of each image\n",
        "            inputs, labels = inputs.to(device), labels.to(device)\n",
        "\n",
        "            optimizer.zero_grad()\n",
        "            outputs = model(inputs)\n",
        "\n",
        "            # outputs: Output of the network for the collection of images. A tensor of dimensionality batch_size x num_classes\n",
        "            # labels: The actual labels of the images. Vector of dimensionality batch_size\n",
        "            loss = criterion(outputs, labels)\n",
        "            loss.backward()\n",
        "            optimizer.step()\n",
        "\n",
        "            running_loss += loss.item()\n",
        "\n",
        "        print(f\"Epoch {epoch+1}/{epochs}, Loss: {running_loss / len(train_loader)}\")\n",
        "\n",
        "def test(model, test_loader, device):\n",
        "    model.to(device)\n",
        "    model.eval()\n",
        "\n",
        "    correct = 0\n",
        "    total = 0\n",
        "\n",
        "    with torch.no_grad():\n",
        "        for inputs, labels in test_loader:\n",
        "            inputs, labels = inputs.to(device), labels.to(device)\n",
        "\n",
        "            outputs = model(inputs)\n",
        "            _, predicted = torch.max(outputs.data, 1)\n",
        "\n",
        "            total += labels.size(0)\n",
        "            correct += (predicted == labels).sum().item()\n",
        "\n",
        "    accuracy = 100 * correct / total\n",
        "    print(f\"Test Accuracy: {accuracy:.2f}%\")\n",
        "    return accuracy"
      ],
      "metadata": {
        "id": "mmjoNYbyJsAU"
      },
      "execution_count": 6,
      "outputs": []
    },
    {
      "cell_type": "code",
      "source": [
        "torch.manual_seed(42)\n",
        "nn_deep = DeepNN(num_classes=10).to(device)\n",
        "start_teacher_train = time.perf_counter()\n",
        "train(nn_deep, train_loader, epochs=NUM_EPOCHS, learning_rate=0.001, device=device)\n",
        "end_teacher_train = time.perf_counter()\n",
        "teacher_train_seconds = end_teacher_train - start_teacher_train\n",
        "test_accuracy_deep = test(nn_deep, test_loader, device)\n",
        "\n",
        "# Instantiate the lightweight network:\n",
        "torch.manual_seed(42)\n",
        "nn_light = LightNN(num_classes=10).to(device)"
      ],
      "metadata": {
        "colab": {
          "base_uri": "https://localhost:8080/"
        },
        "id": "9Qsf3ieHJv6u",
        "outputId": "02b0f556-eea0-4a45-b10d-3e7c34fe1567"
      },
      "execution_count": 7,
      "outputs": [
        {
          "output_type": "stream",
          "name": "stdout",
          "text": [
            "Epoch 1/1, Loss: 2.16579819470644\n",
            "Test Accuracy: 25.85%\n"
          ]
        }
      ]
    },
    {
      "cell_type": "code",
      "source": [
        "torch.manual_seed(42)\n",
        "new_nn_light = LightNN(num_classes=10).to(device)"
      ],
      "metadata": {
        "id": "6qdR0h_EJyfF"
      },
      "execution_count": 8,
      "outputs": []
    },
    {
      "cell_type": "code",
      "source": [
        "# Print the norm of the first layer of the initial lightweight model\n",
        "print(\"Norm of 1st layer of nn_light:\", torch.norm(nn_light.features[0].weight).item())\n",
        "# Print the norm of the first layer of the new lightweight model\n",
        "print(\"Norm of 1st layer of new_nn_light:\", torch.norm(new_nn_light.features[0].weight).item())"
      ],
      "metadata": {
        "colab": {
          "base_uri": "https://localhost:8080/"
        },
        "id": "F1pJca3uJ0nM",
        "outputId": "63d13f79-e94e-4a0c-d8a8-8d7d206af690"
      },
      "execution_count": 9,
      "outputs": [
        {
          "output_type": "stream",
          "name": "stdout",
          "text": [
            "Norm of 1st layer of nn_light: 2.327361822128296\n",
            "Norm of 1st layer of new_nn_light: 2.327361822128296\n"
          ]
        }
      ]
    },
    {
      "cell_type": "code",
      "source": [
        "## Print the total number of parameters in each model:\n",
        "\n",
        "total_params_deep = \"{:,}\".format(sum(p.numel() for p in nn_deep.parameters()))\n",
        "print(f\"DeepNN parameters: {total_params_deep}\")\n",
        "total_params_light = \"{:,}\".format(sum(p.numel() for p in nn_light.parameters()))\n",
        "print(f\"LightNN parameters: {total_params_light}\")"
      ],
      "metadata": {
        "colab": {
          "base_uri": "https://localhost:8080/"
        },
        "id": "yTQm2ObfJ37O",
        "outputId": "034f1043-c336-400e-8640-604606e02310"
      },
      "execution_count": 10,
      "outputs": [
        {
          "output_type": "stream",
          "name": "stdout",
          "text": [
            "DeepNN parameters: 1,186,986\n",
            "LightNN parameters: 85,236\n"
          ]
        }
      ]
    },
    {
      "cell_type": "code",
      "source": [
        "print(f\"Teacher accuracy: {test_accuracy_deep:.2f}%\")\n",
        "#### print(f\"Student accuracy: {test_accuracy_light_ce:.2f}%\")"
      ],
      "metadata": {
        "colab": {
          "base_uri": "https://localhost:8080/"
        },
        "id": "LgwgVAquKFBT",
        "outputId": "f7403bea-b1ae-4e3d-dd48-3330b59117c8"
      },
      "execution_count": 11,
      "outputs": [
        {
          "output_type": "stream",
          "name": "stdout",
          "text": [
            "Teacher accuracy: 25.85%\n"
          ]
        }
      ]
    },
    {
      "cell_type": "code",
      "source": [
        "## Distillation loss is calculated from the logits of the networks. It only returns gradients to the student:\n",
        "\n",
        "def train_knowledge_distillation(teacher, student, train_loader, epochs, learning_rate, T, soft_target_loss_weight, ce_loss_weight, device):\n",
        "    ce_loss = nn.CrossEntropyLoss()\n",
        "    optimizer = optim.Adam(student.parameters(), lr=learning_rate)\n",
        "\n",
        "    teacher.eval()  # Teacher set to evaluation mode\n",
        "    student.train() # Student to train mode\n",
        "\n",
        "    for epoch in range(epochs):\n",
        "        running_loss = 0.0\n",
        "        for inputs, labels in train_loader:\n",
        "            inputs, labels = inputs.to(device), labels.to(device)\n",
        "\n",
        "            optimizer.zero_grad()\n",
        "\n",
        "            # Forward pass with the teacher model - do not save gradients here as we do not change the teacher's weights\n",
        "            with torch.no_grad():\n",
        "                teacher_logits = teacher(inputs)\n",
        "\n",
        "            # Forward pass with the student model\n",
        "            student_logits = student(inputs)\n",
        "\n",
        "            #Soften the student logits by applying softmax first and log() second\n",
        "            soft_targets = nn.functional.softmax(teacher_logits / T, dim=-1)\n",
        "            soft_prob = nn.functional.log_softmax(student_logits / T, dim=-1)\n",
        "\n",
        "            # Calculate the soft targets loss. Scaled by T**2 as suggested by the authors of the paper \"Distilling the knowledge in a neural network\"\n",
        "            soft_targets_loss = torch.sum(soft_targets * (soft_targets.log() - soft_prob)) / soft_prob.size()[0] * (T**2)\n",
        "\n",
        "            # Calculate the true label loss\n",
        "            label_loss = ce_loss(student_logits, labels)\n",
        "\n",
        "            # Weighted sum of the two losses\n",
        "            loss = soft_target_loss_weight * soft_targets_loss + ce_loss_weight * label_loss\n",
        "\n",
        "            loss.backward()\n",
        "            optimizer.step()\n",
        "\n",
        "            running_loss += loss.item()\n",
        "\n",
        "        print(f\"Epoch {epoch+1}/{epochs}, Loss: {running_loss / len(train_loader)}\")\n",
        "\n",
        "# Apply ``train_knowledge_distillation`` with a temperature of 2. Arbitrarily set the weights to 0.75 for CE and 0.25 for distillation loss.\n",
        "start_student_distill = time.perf_counter()\n",
        "train_knowledge_distillation(teacher=nn_deep, student=new_nn_light, train_loader=train_loader, epochs=NUM_EPOCHS, learning_rate=0.001, T=2, soft_target_loss_weight=0.25, ce_loss_weight=0.75, device=device)\n",
        "end_student_distill = time.perf_counter()\n",
        "test_accuracy_light_ce_and_kd = test(new_nn_light, test_loader, device)\n",
        "\n",
        "# Compare the student test accuracy with and without the teacher, after distillation\n",
        "print(f\"Teacher accuracy: {test_accuracy_deep:.2f}%\")\n",
        "#### print(f\"Student accuracy without teacher: {test_accuracy_light_ce:.2f}%\")\n",
        "print(f\"Student accuracy with CE + KD: {test_accuracy_light_ce_and_kd:.2f}%\")"
      ],
      "metadata": {
        "colab": {
          "base_uri": "https://localhost:8080/"
        },
        "id": "4aBlvpzdKHLU",
        "outputId": "ffe3c980-b4f6-4d82-db5b-a1109f8f6eb7"
      },
      "execution_count": 12,
      "outputs": [
        {
          "output_type": "stream",
          "name": "stdout",
          "text": [
            "Epoch 1/1, Loss: 1.6866092681884766\n",
            "Test Accuracy: 26.15%\n",
            "Teacher accuracy: 25.85%\n",
            "Student accuracy with CE + KD: 26.15%\n"
          ]
        }
      ]
    },
    {
      "cell_type": "code",
      "source": [
        "for i in range(8):\n",
        "    # conv2_feature_count:  8..=16\n",
        "    conv2_feature_count = 8 + i\n",
        "    # linear_feature_count: 128..=256\n",
        "    linear_feature_count = 128 + i * 32\n",
        "    new_nn_light = LightNN(num_classes=10, conv2_feature_count=conv2_feature_count, linear_feature_count=linear_feature_count).to(device)\n",
        "\n",
        "    # Apply ``train_knowledge_distillation`` with a temperature of 2. Arbitrarily set the weights to 0.75 for CE and 0.25 for distillation loss.\n",
        "    start_student_distill = time.perf_counter()\n",
        "    train_knowledge_distillation(teacher=nn_deep, student=new_nn_light, train_loader=train_loader, epochs=NUM_EPOCHS, learning_rate=0.001, T=2, soft_target_loss_weight=0.25, ce_loss_weight=0.75, device=device)\n",
        "    end_student_distill = time.perf_counter()\n",
        "    student_distill_seconds = end_student_distill - start_student_distill\n",
        "    test_accuracy_light_kd = test(new_nn_light, test_loader, device)\n",
        "\n",
        "    print(f\"Teacher training time: {teacher_train_seconds:0.4f} seconds\")\n",
        "\n",
        "    ## Print the total number of parameters in each model:\n",
        "    total_params_deep = \"{:,}\".format(sum(p.numel() for p in nn_deep.parameters()))\n",
        "    print(f\"DeepNN parameters: {total_params_deep}\")\n",
        "    total_params_light = \"{:,}\".format(sum(p.numel() for p in new_nn_light.parameters()))\n",
        "    print(f\"LightNN parameters: {total_params_light}\")\n",
        "\n",
        "    print(f\"Student distillation time: {student_distill_seconds:0.4f} seconds\")\n",
        "\n",
        "    # Compare the student test accuracy with and without the teacher, after distillation\n",
        "    print(f\"Teacher accuracy: {test_accuracy_deep:.2f}%\")\n",
        "    #### print(f\"Student accuracy without teacher: {test_accuracy_light_ce:.2f}%\")\n",
        "    print(f\"Student accuracy with knowledge distillation: {test_accuracy_light_kd:.2f}%\\n\")"
      ],
      "metadata": {
        "colab": {
          "base_uri": "https://localhost:8080/"
        },
        "id": "MjlXQutxNIIw",
        "outputId": "3216760e-9e73-4143-f7a5-6a579edaa53f"
      },
      "execution_count": 13,
      "outputs": [
        {
          "output_type": "stream",
          "name": "stdout",
          "text": [
            "Epoch 1/1, Loss: 1.7493046447634697\n",
            "Test Accuracy: 24.20%\n",
            "Teacher training time: 4.0440 seconds\n",
            "DeepNN parameters: 1,186,986\n",
            "LightNN parameters: 68,562\n",
            "Student distillation time: 1.8500 seconds\n",
            "Teacher accuracy: 25.85%\n",
            "Student accuracy with knowledge distillation: 24.20%\n",
            "\n",
            "Epoch 1/1, Loss: 1.7245753854513168\n",
            "Test Accuracy: 27.05%\n",
            "Teacher training time: 4.0440 seconds\n",
            "DeepNN parameters: 1,186,986\n",
            "LightNN parameters: 95,683\n",
            "Student distillation time: 1.8477 seconds\n",
            "Teacher accuracy: 25.85%\n",
            "Student accuracy with knowledge distillation: 27.05%\n",
            "\n",
            "Epoch 1/1, Loss: 1.7033217698335648\n",
            "Test Accuracy: 28.90%\n",
            "Teacher training time: 4.0440 seconds\n",
            "DeepNN parameters: 1,186,986\n",
            "LightNN parameters: 126,900\n",
            "Student distillation time: 1.8710 seconds\n",
            "Teacher accuracy: 25.85%\n",
            "Student accuracy with knowledge distillation: 28.90%\n",
            "\n",
            "Epoch 1/1, Loss: 1.6825793385505676\n",
            "Test Accuracy: 30.25%\n",
            "Teacher training time: 4.0440 seconds\n",
            "DeepNN parameters: 1,186,986\n",
            "LightNN parameters: 162,213\n",
            "Student distillation time: 1.8509 seconds\n",
            "Teacher accuracy: 25.85%\n",
            "Student accuracy with knowledge distillation: 30.25%\n",
            "\n",
            "Epoch 1/1, Loss: 1.6164399236440659\n",
            "Test Accuracy: 28.65%\n",
            "Teacher training time: 4.0440 seconds\n",
            "DeepNN parameters: 1,186,986\n",
            "LightNN parameters: 201,622\n",
            "Student distillation time: 1.8607 seconds\n",
            "Teacher accuracy: 25.85%\n",
            "Student accuracy with knowledge distillation: 28.65%\n",
            "\n",
            "Epoch 1/1, Loss: 1.6750508174300194\n",
            "Test Accuracy: 29.90%\n",
            "Teacher training time: 4.0440 seconds\n",
            "DeepNN parameters: 1,186,986\n",
            "LightNN parameters: 245,127\n",
            "Student distillation time: 1.8924 seconds\n",
            "Teacher accuracy: 25.85%\n",
            "Student accuracy with knowledge distillation: 29.90%\n",
            "\n",
            "Epoch 1/1, Loss: 1.6298533007502556\n",
            "Test Accuracy: 29.95%\n",
            "Teacher training time: 4.0440 seconds\n",
            "DeepNN parameters: 1,186,986\n",
            "LightNN parameters: 292,728\n",
            "Student distillation time: 1.8409 seconds\n",
            "Teacher accuracy: 25.85%\n",
            "Student accuracy with knowledge distillation: 29.95%\n",
            "\n",
            "Epoch 1/1, Loss: 1.6578324288129807\n",
            "Test Accuracy: 29.05%\n",
            "Teacher training time: 4.0440 seconds\n",
            "DeepNN parameters: 1,186,986\n",
            "LightNN parameters: 344,425\n",
            "Student distillation time: 1.9247 seconds\n",
            "Teacher accuracy: 25.85%\n",
            "Student accuracy with knowledge distillation: 29.05%\n",
            "\n"
          ]
        }
      ]
    }
  ]
}