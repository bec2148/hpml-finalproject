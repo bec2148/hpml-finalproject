{
  "nbformat": 4,
  "nbformat_minor": 0,
  "metadata": {
    "colab": {
      "provenance": [],
      "authorship_tag": "ABX9TyMa7slo6RJ9Q3oXRNCieK7q",
      "include_colab_link": true
    },
    "kernelspec": {
      "name": "python3",
      "display_name": "Python 3"
    },
    "language_info": {
      "name": "python"
    }
  },
  "cells": [
    {
      "cell_type": "markdown",
      "metadata": {
        "id": "view-in-github",
        "colab_type": "text"
      },
      "source": [
        "<a href=\"https://colab.research.google.com/github/bec2148/mnist-finalproject/blob/main/CIFAR10_distillation.ipynb\" target=\"_parent\"><img src=\"https://colab.research.google.com/assets/colab-badge.svg\" alt=\"Open In Colab\"/></a>"
      ]
    },
    {
      "cell_type": "code",
      "execution_count": 14,
      "metadata": {
        "colab": {
          "base_uri": "https://localhost:8080/"
        },
        "id": "Rj_WcD0yJI5L",
        "outputId": "24a28331-2811-4562-ba50-b211d08c6419"
      },
      "outputs": [
        {
          "output_type": "stream",
          "name": "stdout",
          "text": [
            "torch.cuda.is_available() False\n"
          ]
        }
      ],
      "source": [
        "# Base code https://pytorch.org/tutorials/beginner/knowledge_distillation_tutorial.html\n",
        "\n",
        "import torch\n",
        "import torch.nn as nn\n",
        "import torch.optim as optim\n",
        "import torchvision.transforms as transforms\n",
        "import torchvision.datasets as datasets\n",
        "import time\n",
        "\n",
        "NUM_EPOCHS = 10\n",
        "\n",
        "# Check if GPU is available, and if not, use the CPU\n",
        "print(\"torch.cuda.is_available()\", torch.cuda.is_available())\n",
        "device = torch.device(\"cuda\" if torch.cuda.is_available() else \"cpu\")"
      ]
    },
    {
      "cell_type": "code",
      "source": [
        "# Below we are preprocessing data for CIFAR-10. We use an arbitrary batch size of 128.\n",
        "transforms_cifar = transforms.Compose([\n",
        "    transforms.ToTensor(),\n",
        "    transforms.Normalize(mean=[0.485, 0.456, 0.406], std=[0.229, 0.224, 0.225]),\n",
        "])\n",
        "\n",
        "# Loading the CIFAR-10 dataset:\n",
        "train_dataset = datasets.CIFAR10(root='./data', train=True, download=True, transform=transforms_cifar)\n",
        "test_dataset = datasets.CIFAR10(root='./data', train=False, download=True, transform=transforms_cifar)"
      ],
      "metadata": {
        "colab": {
          "base_uri": "https://localhost:8080/"
        },
        "id": "aqHimhmJJNbm",
        "outputId": "3ebbb002-6af6-40e5-acc3-e9d75bb1fe75"
      },
      "execution_count": 15,
      "outputs": [
        {
          "output_type": "stream",
          "name": "stdout",
          "text": [
            "Files already downloaded and verified\n",
            "Files already downloaded and verified\n"
          ]
        }
      ]
    },
    {
      "cell_type": "code",
      "source": [
        "# Comment back in for efficiency\n",
        "\n",
        "# from torch.utils.data import Subset\n",
        "# num_images_to_keep = 2000\n",
        "# train_dataset = Subset(train_dataset, range(min(num_images_to_keep, 50_000)))\n",
        "# test_dataset = Subset(test_dataset, range(min(num_images_to_keep, 10_000)))"
      ],
      "metadata": {
        "id": "ix96bctIJX-S"
      },
      "execution_count": 16,
      "outputs": []
    },
    {
      "cell_type": "code",
      "source": [
        "#Dataloaders\n",
        "train_loader = torch.utils.data.DataLoader(train_dataset, batch_size=128, shuffle=True, num_workers=2)\n",
        "test_loader = torch.utils.data.DataLoader(test_dataset, batch_size=128, shuffle=False, num_workers=2)"
      ],
      "metadata": {
        "id": "wi87xT1ZJik8"
      },
      "execution_count": 17,
      "outputs": []
    },
    {
      "cell_type": "code",
      "source": [
        "# Deeper neural network class to be used as teacher:\n",
        "class DeepNN(nn.Module):\n",
        "    def __init__(self, num_classes=10):\n",
        "        super(DeepNN, self).__init__()\n",
        "        self.features = nn.Sequential(\n",
        "            nn.Conv2d(3, 128, kernel_size=3, padding=1),\n",
        "            nn.ReLU(),\n",
        "            nn.Conv2d(128, 64, kernel_size=3, padding=1),\n",
        "            nn.ReLU(),\n",
        "            nn.MaxPool2d(kernel_size=2, stride=2),\n",
        "            nn.Conv2d(64, 64, kernel_size=3, padding=1),\n",
        "            nn.ReLU(),\n",
        "            nn.Conv2d(64, 32, kernel_size=3, padding=1),\n",
        "            nn.ReLU(),\n",
        "            nn.MaxPool2d(kernel_size=2, stride=2),\n",
        "        )\n",
        "        self.classifier = nn.Sequential(\n",
        "            nn.Linear(2048, 512),\n",
        "            nn.ReLU(),\n",
        "            nn.Dropout(0.1),\n",
        "            nn.Linear(512, num_classes)\n",
        "        )\n",
        "\n",
        "    def forward(self, x):\n",
        "        x = self.features(x)\n",
        "        x = torch.flatten(x, 1)\n",
        "        x = self.classifier(x)\n",
        "        return x\n",
        "\n",
        "# Lightweight neural network class to be used as student:\n",
        "class LightNN(nn.Module):\n",
        "    def __init__(self, num_classes=10, conv2_feature_count=10, linear_feature_count=128):\n",
        "        super(LightNN, self).__init__()\n",
        "        self.features = nn.Sequential(\n",
        "            nn.Conv2d(3, 16, kernel_size=3, padding=1),\n",
        "            nn.ReLU(),\n",
        "            nn.MaxPool2d(kernel_size=2, stride=2),\n",
        "            # Changed from (16, 16) -> (16, conv2_feature_count)\n",
        "            nn.Conv2d(16, conv2_feature_count, kernel_size=3, padding=1),\n",
        "            nn.ReLU(),\n",
        "            nn.MaxPool2d(kernel_size=2, stride=2),\n",
        "        )\n",
        "        self.classifier = nn.Sequential(\n",
        "            # Changed (1024, 256 -> 512, linear_feature_count)\n",
        "            nn.Linear(64 * conv2_feature_count, linear_feature_count),\n",
        "            nn.ReLU(),\n",
        "            nn.Dropout(0.1),\n",
        "            # Changed from 256 -> linear_feature_count\n",
        "            nn.Linear(linear_feature_count, num_classes)\n",
        "        )\n",
        "\n",
        "    def forward(self, x):\n",
        "        x = self.features(x)\n",
        "        x = torch.flatten(x, 1)\n",
        "        x = self.classifier(x)\n",
        "        return x"
      ],
      "metadata": {
        "id": "Qbo2CnyPJlRA"
      },
      "execution_count": 18,
      "outputs": []
    },
    {
      "cell_type": "code",
      "source": [
        "def train(model, train_loader, epochs, learning_rate, device):\n",
        "    criterion = nn.CrossEntropyLoss()\n",
        "    optimizer = optim.Adam(model.parameters(), lr=learning_rate)\n",
        "\n",
        "    model.train()\n",
        "\n",
        "    for epoch in range(epochs):\n",
        "        running_loss = 0.0\n",
        "        for inputs, labels in train_loader:\n",
        "            # inputs: A collection of batch_size images\n",
        "            # labels: A vector of dimensionality batch_size with integers denoting class of each image\n",
        "            inputs, labels = inputs.to(device), labels.to(device)\n",
        "\n",
        "            optimizer.zero_grad()\n",
        "            outputs = model(inputs)\n",
        "\n",
        "            # outputs: Output of the network for the collection of images. A tensor of dimensionality batch_size x num_classes\n",
        "            # labels: The actual labels of the images. Vector of dimensionality batch_size\n",
        "            loss = criterion(outputs, labels)\n",
        "            loss.backward()\n",
        "            optimizer.step()\n",
        "\n",
        "            running_loss += loss.item()\n",
        "\n",
        "        print(f\"Epoch {epoch+1}/{epochs}, Loss: {running_loss / len(train_loader)}\")\n",
        "\n",
        "def test(model, test_loader, device):\n",
        "    model.to(device)\n",
        "    model.eval()\n",
        "\n",
        "    correct = 0\n",
        "    total = 0\n",
        "\n",
        "    with torch.no_grad():\n",
        "        for inputs, labels in test_loader:\n",
        "            inputs, labels = inputs.to(device), labels.to(device)\n",
        "\n",
        "            outputs = model(inputs)\n",
        "            _, predicted = torch.max(outputs.data, 1)\n",
        "\n",
        "            total += labels.size(0)\n",
        "            correct += (predicted == labels).sum().item()\n",
        "\n",
        "    accuracy = 100 * correct / total\n",
        "    print(f\"Test Accuracy: {accuracy:.2f}%\")\n",
        "    return accuracy"
      ],
      "metadata": {
        "id": "mmjoNYbyJsAU"
      },
      "execution_count": 19,
      "outputs": []
    },
    {
      "cell_type": "code",
      "source": [
        "torch.manual_seed(42)\n",
        "nn_deep = DeepNN(num_classes=10).to(device)\n",
        "start_teacher_train = time.perf_counter()\n",
        "train(nn_deep, train_loader, epochs=NUM_EPOCHS, learning_rate=0.001, device=device)\n",
        "end_teacher_train = time.perf_counter()\n",
        "teacher_train_seconds = end_teacher_train - start_teacher_train\n",
        "test_accuracy_deep = test(nn_deep, test_loader, device)\n",
        "\n",
        "# Instantiate the lightweight network:\n",
        "torch.manual_seed(42)\n",
        "nn_light = LightNN(num_classes=10).to(device)"
      ],
      "metadata": {
        "colab": {
          "base_uri": "https://localhost:8080/"
        },
        "id": "9Qsf3ieHJv6u",
        "outputId": "40aa56a0-4e7b-47e3-9274-0031a9ac8b34"
      },
      "execution_count": 20,
      "outputs": [
        {
          "output_type": "stream",
          "name": "stdout",
          "text": [
            "Epoch 1/10, Loss: 1.3612387064472793\n",
            "Epoch 2/10, Loss: 0.8997144103050232\n",
            "Epoch 3/10, Loss: 0.7012277718852548\n",
            "Epoch 4/10, Loss: 0.5637503419538288\n",
            "Epoch 5/10, Loss: 0.43957434392646144\n",
            "Epoch 6/10, Loss: 0.33047518240826207\n",
            "Epoch 7/10, Loss: 0.24322747768800887\n",
            "Epoch 8/10, Loss: 0.19116751765808487\n",
            "Epoch 9/10, Loss: 0.15074250264012296\n",
            "Epoch 10/10, Loss: 0.12778362168280213\n",
            "Test Accuracy: 74.87%\n"
          ]
        }
      ]
    },
    {
      "cell_type": "code",
      "source": [
        "torch.manual_seed(42)\n",
        "new_nn_light = LightNN(num_classes=10).to(device)"
      ],
      "metadata": {
        "id": "6qdR0h_EJyfF"
      },
      "execution_count": 21,
      "outputs": []
    },
    {
      "cell_type": "code",
      "source": [
        "# Print the norm of the first layer of the initial lightweight model\n",
        "print(\"Norm of 1st layer of nn_light:\", torch.norm(nn_light.features[0].weight).item())\n",
        "# Print the norm of the first layer of the new lightweight model\n",
        "print(\"Norm of 1st layer of new_nn_light:\", torch.norm(new_nn_light.features[0].weight).item())"
      ],
      "metadata": {
        "colab": {
          "base_uri": "https://localhost:8080/"
        },
        "id": "F1pJca3uJ0nM",
        "outputId": "c81d04bf-26dc-447a-ded6-202becb35900"
      },
      "execution_count": 22,
      "outputs": [
        {
          "output_type": "stream",
          "name": "stdout",
          "text": [
            "Norm of 1st layer of nn_light: 2.327361822128296\n",
            "Norm of 1st layer of new_nn_light: 2.327361822128296\n"
          ]
        }
      ]
    },
    {
      "cell_type": "code",
      "source": [
        "## Print the total number of parameters in each model:\n",
        "\n",
        "total_params_deep = \"{:,}\".format(sum(p.numel() for p in nn_deep.parameters()))\n",
        "print(f\"DeepNN parameters: {total_params_deep}\")\n",
        "total_params_light = \"{:,}\".format(sum(p.numel() for p in nn_light.parameters()))\n",
        "print(f\"LightNN parameters: {total_params_light}\")"
      ],
      "metadata": {
        "colab": {
          "base_uri": "https://localhost:8080/"
        },
        "id": "yTQm2ObfJ37O",
        "outputId": "fd1e3ae3-2004-4947-b4dc-bcdaf711e456"
      },
      "execution_count": 23,
      "outputs": [
        {
          "output_type": "stream",
          "name": "stdout",
          "text": [
            "DeepNN parameters: 1,186,986\n",
            "LightNN parameters: 85,236\n"
          ]
        }
      ]
    },
    {
      "cell_type": "code",
      "source": [
        "print(f\"Teacher accuracy: {test_accuracy_deep:.2f}%\")\n",
        "#### print(f\"Student accuracy: {test_accuracy_light_ce:.2f}%\")"
      ],
      "metadata": {
        "colab": {
          "base_uri": "https://localhost:8080/"
        },
        "id": "LgwgVAquKFBT",
        "outputId": "cfb258a2-3bd9-4117-ff15-ccc9bcf33e81"
      },
      "execution_count": 24,
      "outputs": [
        {
          "output_type": "stream",
          "name": "stdout",
          "text": [
            "Teacher accuracy: 74.87%\n"
          ]
        }
      ]
    },
    {
      "cell_type": "code",
      "source": [
        "## Distillation loss is calculated from the logits of the networks. It only returns gradients to the student:\n",
        "\n",
        "def train_knowledge_distillation(teacher, student, train_loader, epochs, learning_rate, T, soft_target_loss_weight, ce_loss_weight, device):\n",
        "    ce_loss = nn.CrossEntropyLoss()\n",
        "    optimizer = optim.Adam(student.parameters(), lr=learning_rate)\n",
        "\n",
        "    teacher.eval()  # Teacher set to evaluation mode\n",
        "    student.train() # Student to train mode\n",
        "\n",
        "    for epoch in range(epochs):\n",
        "        running_loss = 0.0\n",
        "        for inputs, labels in train_loader:\n",
        "            inputs, labels = inputs.to(device), labels.to(device)\n",
        "\n",
        "            optimizer.zero_grad()\n",
        "\n",
        "            # Forward pass with the teacher model - do not save gradients here as we do not change the teacher's weights\n",
        "            with torch.no_grad():\n",
        "                teacher_logits = teacher(inputs)\n",
        "\n",
        "            # Forward pass with the student model\n",
        "            student_logits = student(inputs)\n",
        "\n",
        "            #Soften the student logits by applying softmax first and log() second\n",
        "            soft_targets = nn.functional.softmax(teacher_logits / T, dim=-1)\n",
        "            soft_prob = nn.functional.log_softmax(student_logits / T, dim=-1)\n",
        "\n",
        "            # Calculate the soft targets loss. Scaled by T**2 as suggested by the authors of the paper \"Distilling the knowledge in a neural network\"\n",
        "            soft_targets_loss = torch.sum(soft_targets * (soft_targets.log() - soft_prob)) / soft_prob.size()[0] * (T**2)\n",
        "\n",
        "            # Calculate the true label loss\n",
        "            label_loss = ce_loss(student_logits, labels)\n",
        "\n",
        "            # Weighted sum of the two losses\n",
        "            loss = soft_target_loss_weight * soft_targets_loss + ce_loss_weight * label_loss\n",
        "\n",
        "            loss.backward()\n",
        "            optimizer.step()\n",
        "\n",
        "            running_loss += loss.item()\n",
        "\n",
        "        print(f\"Epoch {epoch+1}/{epochs}, Loss: {running_loss / len(train_loader)}\")\n",
        "\n",
        "# Apply ``train_knowledge_distillation`` with a temperature of 2. Arbitrarily set the weights to 0.75 for CE and 0.25 for distillation loss.\n",
        "start_student_distill = time.perf_counter()\n",
        "train_knowledge_distillation(teacher=nn_deep, student=new_nn_light, train_loader=train_loader, epochs=NUM_EPOCHS, learning_rate=0.001, T=2, soft_target_loss_weight=0.25, ce_loss_weight=0.75, device=device)\n",
        "end_student_distill = time.perf_counter()\n",
        "test_accuracy_light_ce_and_kd = test(new_nn_light, test_loader, device)\n",
        "\n",
        "# Compare the student test accuracy with and without the teacher, after distillation\n",
        "print(f\"Teacher accuracy: {test_accuracy_deep:.2f}%\")\n",
        "#### print(f\"Student accuracy without teacher: {test_accuracy_light_ce:.2f}%\")\n",
        "print(f\"Student accuracy with CE + KD: {test_accuracy_light_ce_and_kd:.2f}%\")"
      ],
      "metadata": {
        "colab": {
          "base_uri": "https://localhost:8080/"
        },
        "id": "4aBlvpzdKHLU",
        "outputId": "57c7f57d-813a-40c7-c657-18528f00d315"
      },
      "execution_count": 25,
      "outputs": [
        {
          "output_type": "stream",
          "name": "stdout",
          "text": [
            "Epoch 1/10, Loss: 2.5100126989052423\n",
            "Epoch 2/10, Loss: 2.016175822528732\n",
            "Epoch 3/10, Loss: 1.8027952787516368\n",
            "Epoch 4/10, Loss: 1.66039234445528\n",
            "Epoch 5/10, Loss: 1.5470637256836952\n",
            "Epoch 6/10, Loss: 1.4683849488377876\n",
            "Epoch 7/10, Loss: 1.3928200309843664\n",
            "Epoch 8/10, Loss: 1.3370106485493654\n",
            "Epoch 9/10, Loss: 1.2766336903852575\n",
            "Epoch 10/10, Loss: 1.225502488405808\n",
            "Test Accuracy: 67.55%\n",
            "Teacher accuracy: 74.87%\n",
            "Student accuracy with CE + KD: 67.55%\n"
          ]
        }
      ]
    },
    {
      "cell_type": "code",
      "source": [
        "for i in range(8):\n",
        "    # conv2_feature_count:  8..=16\n",
        "    conv2_feature_count = 8 + i\n",
        "    # linear_feature_count: 128..=256\n",
        "    linear_feature_count = 128 + i * 32\n",
        "    new_nn_light = LightNN(num_classes=10, conv2_feature_count=conv2_feature_count, linear_feature_count=linear_feature_count).to(device)\n",
        "\n",
        "    # Apply ``train_knowledge_distillation`` with a temperature of 2. Arbitrarily set the weights to 0.75 for CE and 0.25 for distillation loss.\n",
        "    start_student_distill = time.perf_counter()\n",
        "    train_knowledge_distillation(teacher=nn_deep, student=new_nn_light, train_loader=train_loader, epochs=NUM_EPOCHS, learning_rate=0.001, T=2, soft_target_loss_weight=0.25, ce_loss_weight=0.75, device=device)\n",
        "    end_student_distill = time.perf_counter()\n",
        "    student_distill_seconds = end_student_distill - start_student_distill\n",
        "    test_accuracy_light_kd = test(new_nn_light, test_loader, device)\n",
        "\n",
        "    print(f\"Teacher training time: {teacher_train_seconds:0.4f} seconds\")\n",
        "\n",
        "    ## Print the total number of parameters in each model:\n",
        "    total_params_deep = \"{:,}\".format(sum(p.numel() for p in nn_deep.parameters()))\n",
        "    print(f\"DeepNN parameters: {total_params_deep}\")\n",
        "    total_params_light = \"{:,}\".format(sum(p.numel() for p in new_nn_light.parameters()))\n",
        "    print(f\"LightNN parameters: {total_params_light}\")\n",
        "\n",
        "    print(f\"Student distillation time: {student_distill_seconds:0.4f} seconds\")\n",
        "\n",
        "    # Compare the student test accuracy with and without the teacher, after distillation\n",
        "    print(f\"Teacher accuracy: {test_accuracy_deep:.2f}%\")\n",
        "    #### print(f\"Student accuracy without teacher: {test_accuracy_light_ce:.2f}%\")\n",
        "    print(f\"Student accuracy with knowledge distillation: {test_accuracy_light_kd:.2f}%\\n\")"
      ],
      "metadata": {
        "colab": {
          "base_uri": "https://localhost:8080/"
        },
        "id": "MjlXQutxNIIw",
        "outputId": "2e3a1a19-4902-438b-eac8-f39fe86a3f48"
      },
      "execution_count": 26,
      "outputs": [
        {
          "output_type": "stream",
          "name": "stdout",
          "text": [
            "Epoch 1/10, Loss: 2.5723260750855936\n",
            "Epoch 2/10, Loss: 2.0379202170750066\n",
            "Epoch 3/10, Loss: 1.8533824566380142\n",
            "Epoch 4/10, Loss: 1.7170400107303239\n",
            "Epoch 5/10, Loss: 1.6197278377650035\n",
            "Epoch 6/10, Loss: 1.5336737962025206\n",
            "Epoch 7/10, Loss: 1.4673652075745565\n",
            "Epoch 8/10, Loss: 1.4029365216984468\n",
            "Epoch 9/10, Loss: 1.3527798396547128\n",
            "Epoch 10/10, Loss: 1.3031982380106015\n",
            "Test Accuracy: 67.86%\n",
            "Teacher training time: 980.7731 seconds\n",
            "DeepNN parameters: 1,186,986\n",
            "LightNN parameters: 68,562\n",
            "Student distillation time: 431.6734 seconds\n",
            "Teacher accuracy: 74.87%\n",
            "Student accuracy with knowledge distillation: 67.86%\n",
            "\n",
            "Epoch 1/10, Loss: 2.5684684191823313\n",
            "Epoch 2/10, Loss: 2.0111613011421143\n",
            "Epoch 3/10, Loss: 1.8108021484311585\n",
            "Epoch 4/10, Loss: 1.668108017853154\n",
            "Epoch 5/10, Loss: 1.559086444432778\n",
            "Epoch 6/10, Loss: 1.4713312914914183\n",
            "Epoch 7/10, Loss: 1.408829275604404\n",
            "Epoch 8/10, Loss: 1.3477377572937694\n",
            "Epoch 9/10, Loss: 1.2959099873862303\n",
            "Epoch 10/10, Loss: 1.2407131832274025\n",
            "Test Accuracy: 67.42%\n",
            "Teacher training time: 980.7731 seconds\n",
            "DeepNN parameters: 1,186,986\n",
            "LightNN parameters: 95,683\n",
            "Student distillation time: 431.3192 seconds\n",
            "Teacher accuracy: 74.87%\n",
            "Student accuracy with knowledge distillation: 67.42%\n",
            "\n",
            "Epoch 1/10, Loss: 2.514315917058979\n",
            "Epoch 2/10, Loss: 1.9719098059417646\n",
            "Epoch 3/10, Loss: 1.7807514963247586\n",
            "Epoch 4/10, Loss: 1.6488954100157598\n",
            "Epoch 5/10, Loss: 1.54105236493718\n",
            "Epoch 6/10, Loss: 1.455043696991318\n",
            "Epoch 7/10, Loss: 1.3762414867005994\n",
            "Epoch 8/10, Loss: 1.3125350251222205\n",
            "Epoch 9/10, Loss: 1.2485082007734978\n",
            "Epoch 10/10, Loss: 1.1984268740924728\n",
            "Test Accuracy: 67.82%\n",
            "Teacher training time: 980.7731 seconds\n",
            "DeepNN parameters: 1,186,986\n",
            "LightNN parameters: 126,900\n",
            "Student distillation time: 434.8003 seconds\n",
            "Teacher accuracy: 74.87%\n",
            "Student accuracy with knowledge distillation: 67.82%\n",
            "\n",
            "Epoch 1/10, Loss: 2.457505571262916\n",
            "Epoch 2/10, Loss: 1.9086493957987831\n",
            "Epoch 3/10, Loss: 1.684001495771091\n",
            "Epoch 4/10, Loss: 1.5385974685249426\n",
            "Epoch 5/10, Loss: 1.4198163753885138\n",
            "Epoch 6/10, Loss: 1.3216659617241082\n",
            "Epoch 7/10, Loss: 1.2333590068170786\n",
            "Epoch 8/10, Loss: 1.1586356519738121\n",
            "Epoch 9/10, Loss: 1.0942176220667026\n",
            "Epoch 10/10, Loss: 1.0305336564398178\n",
            "Test Accuracy: 68.88%\n",
            "Teacher training time: 980.7731 seconds\n",
            "DeepNN parameters: 1,186,986\n",
            "LightNN parameters: 162,213\n",
            "Student distillation time: 435.3012 seconds\n",
            "Teacher accuracy: 74.87%\n",
            "Student accuracy with knowledge distillation: 68.88%\n",
            "\n",
            "Epoch 1/10, Loss: 2.4887533257989323\n",
            "Epoch 2/10, Loss: 1.9736179454857126\n",
            "Epoch 3/10, Loss: 1.737636147557622\n",
            "Epoch 4/10, Loss: 1.560219309519014\n",
            "Epoch 5/10, Loss: 1.421735040062224\n",
            "Epoch 6/10, Loss: 1.3086854513648831\n",
            "Epoch 7/10, Loss: 1.2140638788642786\n",
            "Epoch 8/10, Loss: 1.1275706193636141\n",
            "Epoch 9/10, Loss: 1.0474660167913608\n",
            "Epoch 10/10, Loss: 0.9808523039073895\n",
            "Test Accuracy: 69.30%\n",
            "Teacher training time: 980.7731 seconds\n",
            "DeepNN parameters: 1,186,986\n",
            "LightNN parameters: 201,622\n",
            "Student distillation time: 437.7816 seconds\n",
            "Teacher accuracy: 74.87%\n",
            "Student accuracy with knowledge distillation: 69.30%\n",
            "\n",
            "Epoch 1/10, Loss: 2.4009599984454377\n",
            "Epoch 2/10, Loss: 1.8535837742983532\n",
            "Epoch 3/10, Loss: 1.6148975651587367\n",
            "Epoch 4/10, Loss: 1.4622534016514068\n",
            "Epoch 5/10, Loss: 1.3376001854381903\n",
            "Epoch 6/10, Loss: 1.2257746862023688\n",
            "Epoch 7/10, Loss: 1.1348294199580122\n",
            "Epoch 8/10, Loss: 1.0406622122925566\n",
            "Epoch 9/10, Loss: 0.964862918000087\n",
            "Epoch 10/10, Loss: 0.8950869395299945\n",
            "Test Accuracy: 69.98%\n",
            "Teacher training time: 980.7731 seconds\n",
            "DeepNN parameters: 1,186,986\n",
            "LightNN parameters: 245,127\n",
            "Student distillation time: 437.0778 seconds\n",
            "Teacher accuracy: 74.87%\n",
            "Student accuracy with knowledge distillation: 69.98%\n",
            "\n",
            "Epoch 1/10, Loss: 2.4077309394431543\n",
            "Epoch 2/10, Loss: 1.878500731399907\n",
            "Epoch 3/10, Loss: 1.643842414516927\n",
            "Epoch 4/10, Loss: 1.483709373132652\n",
            "Epoch 5/10, Loss: 1.3456118196782554\n",
            "Epoch 6/10, Loss: 1.229085064605069\n",
            "Epoch 7/10, Loss: 1.1290964092440008\n",
            "Epoch 8/10, Loss: 1.0342847261282488\n",
            "Epoch 9/10, Loss: 0.9490667394055124\n",
            "Epoch 10/10, Loss: 0.8668053307191795\n",
            "Test Accuracy: 70.59%\n",
            "Teacher training time: 980.7731 seconds\n",
            "DeepNN parameters: 1,186,986\n",
            "LightNN parameters: 292,728\n",
            "Student distillation time: 438.7610 seconds\n",
            "Teacher accuracy: 74.87%\n",
            "Student accuracy with knowledge distillation: 70.59%\n",
            "\n",
            "Epoch 1/10, Loss: 2.38061854784446\n",
            "Epoch 2/10, Loss: 1.8290742404015778\n",
            "Epoch 3/10, Loss: 1.579784384164054\n",
            "Epoch 4/10, Loss: 1.4261142384365697\n",
            "Epoch 5/10, Loss: 1.288314372529764\n",
            "Epoch 6/10, Loss: 1.1787273862477763\n",
            "Epoch 7/10, Loss: 1.0778964625295167\n",
            "Epoch 8/10, Loss: 0.9814632765167509\n",
            "Epoch 9/10, Loss: 0.9084530312691808\n",
            "Epoch 10/10, Loss: 0.8252605655614067\n",
            "Test Accuracy: 71.63%\n",
            "Teacher training time: 980.7731 seconds\n",
            "DeepNN parameters: 1,186,986\n",
            "LightNN parameters: 344,425\n",
            "Student distillation time: 439.8029 seconds\n",
            "Teacher accuracy: 74.87%\n",
            "Student accuracy with knowledge distillation: 71.63%\n",
            "\n"
          ]
        }
      ]
    }
  ]
}