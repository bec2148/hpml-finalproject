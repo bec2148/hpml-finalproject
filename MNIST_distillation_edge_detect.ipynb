{
  "nbformat": 4,
  "nbformat_minor": 0,
  "metadata": {
    "colab": {
      "provenance": [],
      "authorship_tag": "ABX9TyMM1/AJznaV3sTlcG9AOWrL",
      "include_colab_link": true
    },
    "kernelspec": {
      "name": "python3",
      "display_name": "Python 3"
    },
    "language_info": {
      "name": "python"
    }
  },
  "cells": [
    {
      "cell_type": "markdown",
      "metadata": {
        "id": "view-in-github",
        "colab_type": "text"
      },
      "source": [
        "<a href=\"https://colab.research.google.com/github/bec2148/mnist-finalproject/blob/main/MNIST_distillation_edge_detect.ipynb\" target=\"_parent\"><img src=\"https://colab.research.google.com/assets/colab-badge.svg\" alt=\"Open In Colab\"/></a>"
      ]
    },
    {
      "cell_type": "code",
      "source": [
        "## Distillation\n",
        "# Base code from https://pytorch.org/tutorials/beginner/knowledge_distillation_tutorial.html\n",
        "import torch\n",
        "import torch.nn as nn\n",
        "import torchvision.datasets as datasets\n",
        "import torchvision.transforms as transforms\n",
        "from torchvision.datasets import MNIST\n",
        "import torch.optim as optim\n",
        "import time\n",
        "\n",
        "\n",
        "NUM_EPOCHS = 1\n",
        "\n",
        "# Check if GPU is available, and if not, use the CPU\n",
        "print(\"torch.cuda.is_available()\", torch.cuda.is_available())\n",
        "device = torch.device(\"cuda\" if torch.cuda.is_available() else \"cpu\")"
      ],
      "metadata": {
        "colab": {
          "base_uri": "https://localhost:8080/"
        },
        "id": "prI7Q_Zh-euZ",
        "outputId": "4d4eeba9-c7e0-4ce6-b4a9-5b44a77110c3"
      },
      "execution_count": 1,
      "outputs": [
        {
          "output_type": "stream",
          "name": "stdout",
          "text": [
            "torch.cuda.is_available() False\n"
          ]
        },
        {
          "output_type": "stream",
          "name": "stderr",
          "text": [
            "/usr/local/lib/python3.10/dist-packages/torch/cuda/__init__.py:128: UserWarning: CUDA initialization: Unexpected error from cudaGetDeviceCount(). Did you run some cuda functions before calling NumCudaDevices() that might have already set an error? Error 500: named symbol not found (Triggered internally at ../c10/cuda/CUDAFunctions.cpp:108.)\n",
            "  return torch._C._cuda_getDeviceCount() > 0\n"
          ]
        }
      ]
    },
    {
      "cell_type": "code",
      "source": [
        "import numpy as np\n",
        "\n",
        "# Modify __getitem__ to handle 3 channels\n",
        "# Overwrite the __getitem__ method in MNIST\n",
        "class MNIST_3Channel(MNIST):\n",
        "    def __getitem__(self, index):\n",
        "        img, target = self.data[index], self.targets[index]\n",
        "        # Check if transform is needed (in case of testing)\n",
        "        if self.transform is not None:\n",
        "            img = self.transform(img)\n",
        "        return img, target\n",
        "\n",
        "def dataset_w_edge_detection(dataset):\n",
        "    # Convert to numpy arrays for direct modification\n",
        "    images = dataset.data.numpy()  # Shape: (60000, 28, 28)\n",
        "    labels = dataset.targets.numpy()  # Shape: (60000,)\n",
        "\n",
        "    # Add a channel dimension for compatibility with later operations\n",
        "    ####images = images[:, :, :, None]  # New shape: (60000, 28, 28, 1)\n",
        "\n",
        "    # Pad the images\n",
        "    padded = np.pad(images, pad_width=((0, 0), (1, 1), (1, 1)), mode='constant', constant_values=0)\n",
        "\n",
        "    # Calculate edge detection features\n",
        "    ur = images - padded[:, 0:28, 2:30]  # Upper right diagonal difference\n",
        "    lr = images - padded[:, 2:30, 2:30]  # Lower right diagonal difference\n",
        "\n",
        "    # Combine the original image and the edge features along the channel dimension\n",
        "    ####combined_images = np.concatenate((images, ur, lr), axis=-1)  # Shape: (60000, 28, 28, 3)\n",
        "\n",
        "    # Create an instance of the modified class\n",
        "    train_dataset = MNIST_3Channel(root='./data', train=True, download=True)\n",
        "    # Stack channels to form a 3-channel dataset\n",
        "    combined_images = np.stack((images, ur, lr), axis=1)  # Shape: (60000, 3, 28, 28)\n",
        "\n",
        "    dataset.data = torch.from_numpy(combined_images)\n",
        "    # Update the transform to handle three channels\n",
        "    dataset.transform = transforms.Compose([\n",
        "        transforms.ConvertImageDtype(torch.float32),  # Convert to float32\n",
        "        transforms.Normalize((0.5, 0.5, 0.5), (0.5, 0.5, 0.5))  # Normalize three channels (adjust means/stds as needed)\n",
        "    ])\n",
        "\n",
        "    return dataset\n"
      ],
      "metadata": {
        "id": "xlUJOlkYRnyy"
      },
      "execution_count": 2,
      "outputs": []
    },
    {
      "cell_type": "code",
      "source": [
        "# Load the MNIST dataset:\n",
        "train_dataset = MNIST_3Channel(root='./data', train=True, download=True)\n",
        "\n",
        "train_dataset_w_edge_detection = dataset_w_edge_detection(train_dataset)\n",
        "train_loader = torch.utils.data.DataLoader(train_dataset_w_edge_detection, batch_size=10, shuffle=True)\n",
        "\n",
        "# download and transform test dataset\n",
        "test_dataset = MNIST_3Channel(root='./data', train=False, download=True)\n",
        "\n",
        "test_dataset_w_edge_detection = dataset_w_edge_detection(test_dataset)\n",
        "test_loader = torch.utils.data.DataLoader(test_dataset_w_edge_detection, batch_size=10, shuffle=True)"
      ],
      "metadata": {
        "id": "RWgmAf-yRh4N"
      },
      "execution_count": 3,
      "outputs": []
    },
    {
      "cell_type": "code",
      "source": [
        "## Distillation\n",
        "num_classes = 10\n",
        "# neural network class to be used as teacher:\n",
        "class TeacherNN(nn.Module):\n",
        "    def __init__(self, num_classes = 10):\n",
        "        super(TeacherNN, self).__init__()\n",
        "        self.features = nn.Sequential(\n",
        "          # Convolution Layer 1\n",
        "          nn.Conv2d(in_channels=3, out_channels=32, kernel_size=(3, 3), padding=0, stride=1),  # 32 3x3 kernels\n",
        "          nn.BatchNorm2d(32),  # Normalize each feature map\n",
        "          nn.ReLU(inplace=True),  # Activation function\n",
        "\n",
        "          # Convolution Layer 2\n",
        "          nn.Conv2d(in_channels=32, out_channels=32, kernel_size=(3, 3), padding=0, stride=1),  # 32 3x3 kernels\n",
        "          nn.BatchNorm2d(32),  # Normalize each feature map\n",
        "          nn.ReLU(inplace=True),  # Activation function\n",
        "          nn.MaxPool2d(kernel_size=(2, 2)),  # Pooling with a 2x2 kernel\n",
        "\n",
        "          # Convolution Layer 3\n",
        "          nn.Conv2d(in_channels=32, out_channels=64, kernel_size=(3, 3), padding=0, stride=1),  # 64 3x3 kernels\n",
        "          nn.BatchNorm2d(64),  # Normalize each feature map\n",
        "          nn.ReLU(inplace=True),  # Activation function\n",
        "\n",
        "          # Convolution Layer 4\n",
        "          nn.Conv2d(in_channels=64, out_channels=64, kernel_size=(3, 3), padding=0, stride=1),  # 64 3x3 kernels\n",
        "          nn.BatchNorm2d(64),  # Normalize each feature map\n",
        "          nn.ReLU(inplace=True),  # Activation function\n",
        "          nn.MaxPool2d(kernel_size=(2, 2)),  # Pooling with a 2x2 kernel\n",
        "\n",
        "          # Flatten the output\n",
        "          nn.Flatten(),\n",
        "        )\n",
        "\n",
        "        self.classifier = nn.Sequential(\n",
        "          # Fully Connected Layer 5\n",
        "          nn.Linear(in_features=64 * 4 * 4, out_features=512),  # Input size from final convolution output\n",
        "          nn.BatchNorm1d(512),  # Normalize FCN output\n",
        "          nn.ReLU(inplace=True),  # Activation function\n",
        "\n",
        "          # Fully Connected Layer 6\n",
        "          nn.Dropout(0.2),  # Dropout with 20%\n",
        "          nn.Linear(in_features=512, out_features=10),  # Final output layer with 10 nodes (one for each class)\n",
        "          nn.Softmax(dim=1)  # Softmax activation for classification\n",
        "        )\n",
        "\n",
        "    def forward(self, x):\n",
        "        x = self.features(x)\n",
        "        x = self.classifier(x)\n",
        "        return x\n",
        "\n",
        "# Lightweight neural network class to be used as student:\n",
        "class StudentNN(nn.Module):\n",
        "    def __init__(self, num_classes=10, conv2_feature_count = 4, linear_feature_count = 4):\n",
        "        super(StudentNN, self).__init__()\n",
        "        self.features = nn.Sequential(\n",
        "            # Convolution Layer 1\n",
        "            nn.Conv2d(in_channels=3, out_channels=8, kernel_size=(3, 3), padding=0, stride=1),  # Fewer filters\n",
        "            nn.BatchNorm2d(8),\n",
        "            nn.ReLU(inplace=True),\n",
        "\n",
        "            # Convolution Layer 2\n",
        "            nn.Conv2d(in_channels=8, out_channels=conv2_feature_count, kernel_size=(3, 3), padding=0, stride=1),  # Fewer filters\n",
        "            nn.BatchNorm2d(conv2_feature_count),\n",
        "            nn.ReLU(inplace=True),\n",
        "            nn.MaxPool2d(kernel_size=(2, 2)),\n",
        "\n",
        "            # Flatten the output\n",
        "            nn.Flatten(),\n",
        "        )\n",
        "\n",
        "        self.classifier = nn.Sequential(\n",
        "            # Fully Connected Layer 3\n",
        "            ## changed in_features=32 * 6 * 6 to in_features=16 * 12 * 12\n",
        "            nn.Linear(in_features=conv2_feature_count * 12 * 12, out_features=linear_feature_count),  # changed 128 --> linear_feature_count\n",
        "            nn.BatchNorm1d(linear_feature_count),\n",
        "            nn.ReLU(inplace=True),\n",
        "\n",
        "            # Fully Connected Layer 4\n",
        "            nn.Dropout(0.2),\n",
        "            nn.Linear(in_features=linear_feature_count, out_features=num_classes),  # Output layer\n",
        "            nn.Softmax(dim=1)\n",
        "        )\n",
        "\n",
        "    def forward(self, x):\n",
        "        x = self.features(x)\n",
        "        x = self.classifier(x)\n",
        "        return x\n"
      ],
      "metadata": {
        "id": "x7T_9M1m3_Oh"
      },
      "execution_count": 4,
      "outputs": []
    },
    {
      "cell_type": "code",
      "source": [
        "## Distillation\n",
        "\n",
        "def train(model, train_loader, epochs, learning_rate, device):\n",
        "    print(\"in train\")\n",
        "    criterion = nn.CrossEntropyLoss()\n",
        "    optimizer = optim.Adam(model.parameters(), lr=learning_rate)\n",
        "\n",
        "    model.train()\n",
        "\n",
        "    for epoch in range(epochs):\n",
        "        running_loss = 0.0\n",
        "        for inputs, labels in train_loader:\n",
        "            # inputs: A collection of batch_size images\n",
        "            # labels: A vector of dimensionality batch_size with integers denoting class of each image\n",
        "            inputs, labels = inputs.to(device), labels.to(device)\n",
        "\n",
        "            optimizer.zero_grad()\n",
        "            outputs = model(inputs)\n",
        "\n",
        "            # outputs: Output of the network for the collection of images. A tensor of dimensionality batch_size x num_classes\n",
        "            # labels: The actual labels of the images. Vector of dimensionality batch_size\n",
        "            loss = criterion(outputs, labels)\n",
        "            loss.backward()\n",
        "            optimizer.step()\n",
        "\n",
        "            running_loss += loss.item()\n",
        "\n",
        "        print(f\"Epoch {epoch+1}/{epochs}, Loss: {running_loss / len(train_loader)}\")\n",
        "\n",
        "def test(model, test_loader, device):\n",
        "    model.to(device)\n",
        "    model.eval()\n",
        "\n",
        "    correct = 0\n",
        "    total = 0\n",
        "\n",
        "    with torch.no_grad():\n",
        "        for inputs, labels in test_loader:\n",
        "            inputs, labels = inputs.to(device), labels.to(device)\n",
        "\n",
        "            outputs = model(inputs)\n",
        "            _, predicted = torch.max(outputs.data, 1)\n",
        "\n",
        "            total += labels.size(0)\n",
        "            correct += (predicted == labels).sum().item()\n",
        "\n",
        "    accuracy = 100 * correct / total\n",
        "    print(f\"Test Accuracy: {accuracy:.2f}%\")\n",
        "    return accuracy"
      ],
      "metadata": {
        "id": "R6kFONVK9t29"
      },
      "execution_count": 5,
      "outputs": []
    },
    {
      "cell_type": "code",
      "source": [
        "## Distillation\n",
        "\n",
        "def train_knowledge_distillation(teacher, student, train_loader, epochs, learning_rate, T, soft_target_loss_weight, ce_loss_weight, device):\n",
        "    ce_loss = nn.CrossEntropyLoss()\n",
        "    optimizer = optim.Adam(student.parameters(), lr=learning_rate)\n",
        "\n",
        "    teacher.eval()  # Teacher set to evaluation mode\n",
        "    student.train() # Student to train mode\n",
        "\n",
        "    for epoch in range(epochs):\n",
        "        running_loss = 0.0\n",
        "        for inputs, labels in train_loader:\n",
        "            inputs, labels = inputs.to(device), labels.to(device)\n",
        "\n",
        "            optimizer.zero_grad()\n",
        "\n",
        "            # Forward pass with the teacher model - do not save gradients here as we do not change the teacher's weights\n",
        "            with torch.no_grad():\n",
        "                teacher_logits = teacher(inputs)\n",
        "\n",
        "            # Forward pass with the student model\n",
        "            student_logits = student(inputs)\n",
        "\n",
        "            #Soften the student logits by applying softmax first and log() second\n",
        "            soft_targets = nn.functional.softmax(teacher_logits / T, dim=-1)\n",
        "            soft_prob = nn.functional.log_softmax(student_logits / T, dim=-1)\n",
        "\n",
        "            # Calculate the soft targets loss. Scaled by T**2 as suggested by the authors of the paper \"Distilling the knowledge in a neural network\"\n",
        "            soft_targets_loss = torch.sum(soft_targets * (soft_targets.log() - soft_prob)) / soft_prob.size()[0] * (T**2)\n",
        "\n",
        "            # Calculate the true label loss\n",
        "            label_loss = ce_loss(student_logits, labels)\n",
        "\n",
        "            # Weighted sum of the two losses\n",
        "            loss = soft_target_loss_weight * soft_targets_loss + ce_loss_weight * label_loss\n",
        "\n",
        "            loss.backward()\n",
        "            optimizer.step()\n",
        "\n",
        "            running_loss += loss.item()\n",
        "\n",
        "        print(f\"Epoch {epoch+1}/{epochs}, Loss: {running_loss / len(train_loader)}\")"
      ],
      "metadata": {
        "id": "F0RINiAXBHk2"
      },
      "execution_count": 6,
      "outputs": []
    },
    {
      "cell_type": "code",
      "source": [
        "## Distillation\n",
        "\n",
        "torch.manual_seed(42)\n",
        "nn_teacher = TeacherNN(num_classes=10).to(device)\n",
        "train(nn_teacher, train_loader, epochs=NUM_EPOCHS, learning_rate=0.001, device=device)\n",
        "test_accuracy_teacher = test(nn_teacher, test_loader, device)\n",
        "\n",
        "# Instantiate the Student network:\n",
        "torch.manual_seed(42)\n",
        "nn_student = StudentNN(num_classes=10, conv2_feature_count=4, linear_feature_count=4).to(device)"
      ],
      "metadata": {
        "colab": {
          "base_uri": "https://localhost:8080/"
        },
        "id": "hiBfaRd8952_",
        "outputId": "2f20b2ef-3e5c-452d-ec98-d001829e0d04"
      },
      "execution_count": 7,
      "outputs": [
        {
          "output_type": "stream",
          "name": "stdout",
          "text": [
            "in train\n",
            "Epoch 1/1, Loss: 1.5114799757202466\n",
            "Test Accuracy: 98.60%\n"
          ]
        }
      ]
    },
    {
      "cell_type": "code",
      "source": [
        "## Distillation\n",
        "torch.manual_seed(42)\n",
        "new_nn_student = StudentNN(num_classes=10).to(device)"
      ],
      "metadata": {
        "id": "TMBFUtwuK_r0"
      },
      "execution_count": 8,
      "outputs": []
    },
    {
      "cell_type": "code",
      "source": [
        "## Distillation\n",
        "\n",
        "## Print the total number of parameters in each model:\n",
        "\n",
        "total_params_teacher = \"{:,}\".format(sum(p.numel() for p in nn_teacher.parameters()))\n",
        "print(f\"TeacherNN parameters: {total_params_teacher}\")\n",
        "total_params_student = \"{:,}\".format(sum(p.numel() for p in nn_student.parameters()))\n",
        "print(f\"StudentNN parameters: {total_params_student}\")"
      ],
      "metadata": {
        "colab": {
          "base_uri": "https://localhost:8080/"
        },
        "id": "VuYKuYXpQPKn",
        "outputId": "3bcac849-d47e-4ecd-ae6d-c8c646ff6702"
      },
      "execution_count": 9,
      "outputs": [
        {
          "output_type": "stream",
          "name": "stdout",
          "text": [
            "TeacherNN parameters: 596,906\n",
            "StudentNN parameters: 2,906\n"
          ]
        }
      ]
    },
    {
      "cell_type": "code",
      "source": [
        "## Distillation\n",
        "\n",
        "## Train and test the lightweight network with cross entropy loss:\n",
        "\n",
        "start_student_train = time.perf_counter()\n",
        "###train(nn_student, train_loader, epochs=NUM_EPOCHS, learning_rate=0.001, device=device)\n",
        "end_student_train = time.perf_counter()\n",
        "print(f\"Student training time: {end_student_train - start_student_train:0.4f} seconds\")\n",
        "\n",
        "test_accuracy_student_ce = test(nn_student, test_loader, device)"
      ],
      "metadata": {
        "colab": {
          "base_uri": "https://localhost:8080/"
        },
        "id": "uEY9aX7mQy_m",
        "outputId": "daf4b71a-3fe9-4a7d-8b96-e588e9750f1f"
      },
      "execution_count": 10,
      "outputs": [
        {
          "output_type": "stream",
          "name": "stdout",
          "text": [
            "Student training time: 0.0000 seconds\n",
            "Test Accuracy: 10.28%\n"
          ]
        }
      ]
    },
    {
      "cell_type": "code",
      "source": [
        "## Distillation\n",
        "\n",
        "print(f\"Teacher accuracy: {test_accuracy_teacher:.2f}%\")\n",
        "print(f\"Student accuracy: {test_accuracy_student_ce:.2f}%\")"
      ],
      "metadata": {
        "colab": {
          "base_uri": "https://localhost:8080/"
        },
        "id": "GzW3hKP5RVLF",
        "outputId": "1c42b5d1-8334-4f96-9233-c049cafb447f"
      },
      "execution_count": 11,
      "outputs": [
        {
          "output_type": "stream",
          "name": "stdout",
          "text": [
            "Teacher accuracy: 98.60%\n",
            "Student accuracy: 10.28%\n"
          ]
        }
      ]
    },
    {
      "cell_type": "code",
      "source": [
        "## Distillation loss is calculated from the logits of the networks. It only returns gradients to the student:\n",
        "\n",
        "# Apply ``train_knowledge_distillation`` with a temperature of 2, to smooth the probability curve and\n",
        "# (hopefully) provide richer information about the teacher's behavior regarding the other 9/10 classes not selected each time\n",
        "start_student_distill = time.perf_counter()\n",
        "###train_knowledge_distillation(teacher=nn_teacher, student=new_nn_student, train_loader=train_loader, epochs=NUM_EPOCHS, learning_rate=0.001, T=2, soft_target_loss_weight=0.25, ce_loss_weight=0.75, device=device)\n",
        "end_student_distill = time.perf_counter()\n",
        "print(f\"Student training time: {end_student_distill - start_student_distill:0.4f} seconds\")\n",
        "\n",
        "test_accuracy_student_ce_and_kd = test(new_nn_student, test_loader, device)\n",
        "\n",
        "# Compare the student test accuracy with and without the teacher, after distillation\n",
        "print(f\"Teacher accuracy: {test_accuracy_teacher:.2f}%\")\n",
        "print(f\"Student accuracy without teacher: {test_accuracy_student_ce:.2f}%\")\n",
        "print(f\"Student accuracy with knowledge distillation: {test_accuracy_student_ce_and_kd:.2f}%\")"
      ],
      "metadata": {
        "colab": {
          "base_uri": "https://localhost:8080/"
        },
        "id": "a5Q5CAOeSun1",
        "outputId": "5464afe7-b88a-4885-bb76-b75c1e6b7da5"
      },
      "execution_count": 12,
      "outputs": [
        {
          "output_type": "stream",
          "name": "stdout",
          "text": [
            "Student training time: 0.0000 seconds\n",
            "Test Accuracy: 10.28%\n",
            "Teacher accuracy: 98.60%\n",
            "Student accuracy without teacher: 10.28%\n",
            "Student accuracy with knowledge distillation: 10.28%\n"
          ]
        }
      ]
    },
    {
      "cell_type": "code",
      "source": [
        "for i in range(8):\n",
        "  trained_nn_student = StudentNN(num_classes=10, conv2_feature_count=4+i, linear_feature_count=4+i).to(device)\n",
        "  start_student_distill = time.perf_counter()\n",
        "  train_knowledge_distillation(teacher=nn_teacher, student=trained_nn_student, train_loader=train_loader, epochs=NUM_EPOCHS, learning_rate=0.001, T=2, soft_target_loss_weight=0.25, ce_loss_weight=0.75, device=device)\n",
        "  end_student_distill = time.perf_counter()\n",
        "  total_params_student = \"{:,}\".format(sum(p.numel() for p in trained_nn_student.parameters()))\n",
        "  print(f\"TeacherNN parameters: {total_params_teacher}\")\n",
        "  print(f\"StudentNN parameters: {total_params_student}\")\n",
        "  print(f\"Student training time: {end_student_distill - start_student_distill:0.4f} seconds\")\n",
        "  test_accuracy_student_kd = test(trained_nn_student, test_loader, device)\n",
        "  print(f\"Student accuracy with knowledge distillation: {test_accuracy_student_kd:.2f}%\\n\")\n"
      ],
      "metadata": {
        "id": "qLsEX_EHB34F",
        "outputId": "ab609e93-b985-4004-a759-56e1841ab9fb",
        "colab": {
          "base_uri": "https://localhost:8080/"
        }
      },
      "execution_count": 13,
      "outputs": [
        {
          "output_type": "stream",
          "name": "stdout",
          "text": [
            "Epoch 1/1, Loss: 1.4901998706261317\n",
            "TeacherNN parameters: 596,906\n",
            "StudentNN parameters: 2,906\n",
            "Student training time: 36.8718 seconds\n",
            "Test Accuracy: 89.08%\n",
            "Student accuracy with knowledge distillation: 89.08%\n",
            "\n",
            "Epoch 1/1, Loss: 1.4577520288030306\n",
            "TeacherNN parameters: 596,906\n",
            "StudentNN parameters: 4,290\n",
            "Student training time: 37.2416 seconds\n",
            "Test Accuracy: 92.96%\n",
            "Student accuracy with knowledge distillation: 92.96%\n",
            "\n",
            "Epoch 1/1, Loss: 1.4072406859397888\n",
            "TeacherNN parameters: 596,906\n",
            "StudentNN parameters: 5,962\n",
            "Student training time: 36.7405 seconds\n",
            "Test Accuracy: 95.35%\n",
            "Student accuracy with knowledge distillation: 95.35%\n",
            "\n",
            "Epoch 1/1, Loss: 1.3831189576387406\n",
            "TeacherNN parameters: 596,906\n",
            "StudentNN parameters: 7,922\n",
            "Student training time: 43.5636 seconds\n",
            "Test Accuracy: 95.28%\n",
            "Student accuracy with knowledge distillation: 95.28%\n",
            "\n",
            "Epoch 1/1, Loss: 1.3403868522842726\n",
            "TeacherNN parameters: 596,906\n",
            "StudentNN parameters: 10,170\n",
            "Student training time: 97.4114 seconds\n",
            "Test Accuracy: 96.55%\n",
            "Student accuracy with knowledge distillation: 96.55%\n",
            "\n",
            "Epoch 1/1, Loss: 1.3338085684577623\n",
            "TeacherNN parameters: 596,906\n",
            "StudentNN parameters: 12,706\n",
            "Student training time: 82.1684 seconds\n",
            "Test Accuracy: 96.50%\n",
            "Student accuracy with knowledge distillation: 96.50%\n",
            "\n",
            "Epoch 1/1, Loss: 1.2918637634913126\n",
            "TeacherNN parameters: 596,906\n",
            "StudentNN parameters: 15,530\n",
            "Student training time: 75.0058 seconds\n",
            "Test Accuracy: 96.87%\n",
            "Student accuracy with knowledge distillation: 96.87%\n",
            "\n",
            "Epoch 1/1, Loss: 1.2685091258088748\n",
            "TeacherNN parameters: 596,906\n",
            "StudentNN parameters: 18,642\n",
            "Student training time: 82.0872 seconds\n",
            "Test Accuracy: 97.16%\n",
            "Student accuracy with knowledge distillation: 97.16%\n",
            "\n"
          ]
        }
      ]
    }
  ]
}