{
  "nbformat": 4,
  "nbformat_minor": 0,
  "metadata": {
    "colab": {
      "provenance": [],
      "toc_visible": true,
      "authorship_tag": "ABX9TyOrtIUQmrnnDN226HjD2tsT",
      "include_colab_link": true
    },
    "kernelspec": {
      "name": "python3",
      "display_name": "Python 3"
    },
    "language_info": {
      "name": "python"
    }
  },
  "cells": [
    {
      "cell_type": "markdown",
      "metadata": {
        "id": "view-in-github",
        "colab_type": "text"
      },
      "source": [
        "<a href=\"https://colab.research.google.com/github/bec2148/mnist-finalproject/blob/main/MNIST_distillation.ipynb\" target=\"_parent\"><img src=\"https://colab.research.google.com/assets/colab-badge.svg\" alt=\"Open In Colab\"/></a>"
      ]
    },
    {
      "cell_type": "code",
      "source": [
        "## Distillation\n",
        "# Base code from https://pytorch.org/tutorials/beginner/knowledge_distillation_tutorial.html\n",
        "import torch\n",
        "import torch.nn as nn\n",
        "import torchvision.datasets as datasets\n",
        "import torchvision.transforms as transforms\n",
        "import torch.optim as optim\n",
        "import time\n",
        "\n",
        "\n",
        "NUM_EPOCHS = 1\n",
        "\n",
        "# Check if GPU is available, and if not, use the CPU\n",
        "print(\"torch.cuda.is_available()\", torch.cuda.is_available())\n",
        "device = torch.device(\"cuda\" if torch.cuda.is_available() else \"cpu\")\n",
        "\n",
        "# Loading the MNIST dataset:\n",
        "train_loader = torch.utils.data.DataLoader(datasets.MNIST('../mnist_data',\n",
        "                                                          download=True,\n",
        "                                                          train=True,\n",
        "                                                          transform=transforms.Compose([\n",
        "                                                              transforms.ToTensor(), # first, convert image to PyTorch tensor\n",
        "                                                              transforms.Normalize((0.1307,), (0.3081,)) # normalize inputs\n",
        "                                                          ])),\n",
        "                                           batch_size=10,\n",
        "                                           shuffle=True)\n",
        "\n",
        "# download and transform test dataset\n",
        "test_loader = torch.utils.data.DataLoader(datasets.MNIST('../mnist_data',\n",
        "                                                          download=True,\n",
        "                                                          train=False,\n",
        "                                                          transform=transforms.Compose([\n",
        "                                                              transforms.ToTensor(), # first, convert image to PyTorch tensor\n",
        "                                                              transforms.Normalize((0.1307,), (0.3081,)) # normalize inputs\n",
        "                                                          ])),\n",
        "                                           batch_size=10,\n",
        "                                           shuffle=True)"
      ],
      "metadata": {
        "colab": {
          "base_uri": "https://localhost:8080/"
        },
        "id": "prI7Q_Zh-euZ",
        "outputId": "b5b11694-c40b-47f1-9305-a52bf3a3e6e5"
      },
      "execution_count": 12,
      "outputs": [
        {
          "output_type": "stream",
          "name": "stdout",
          "text": [
            "torch.cuda.is_available() False\n"
          ]
        }
      ]
    },
    {
      "cell_type": "code",
      "source": [
        "## Distillation\n",
        "num_classes = 10\n",
        "# neural network class to be used as teacher:\n",
        "class TeacherNN(nn.Module):\n",
        "    def __init__(self, num_classes = 10):\n",
        "        super(TeacherNN, self).__init__()\n",
        "        self.features = nn.Sequential(\n",
        "          # Convolution Layer 1\n",
        "          nn.Conv2d(in_channels=1, out_channels=32, kernel_size=(3, 3), padding=0, stride=1),  # 32 3x3 kernels\n",
        "          nn.BatchNorm2d(32),  # Normalize each feature map\n",
        "          nn.ReLU(inplace=True),  # Activation function\n",
        "\n",
        "          # Convolution Layer 2\n",
        "          nn.Conv2d(in_channels=32, out_channels=32, kernel_size=(3, 3), padding=0, stride=1),  # 32 3x3 kernels\n",
        "          nn.BatchNorm2d(32),  # Normalize each feature map\n",
        "          nn.ReLU(inplace=True),  # Activation function\n",
        "          nn.MaxPool2d(kernel_size=(2, 2)),  # Pooling with a 2x2 kernel\n",
        "\n",
        "          # Convolution Layer 3\n",
        "          nn.Conv2d(in_channels=32, out_channels=64, kernel_size=(3, 3), padding=0, stride=1),  # 64 3x3 kernels\n",
        "          nn.BatchNorm2d(64),  # Normalize each feature map\n",
        "          nn.ReLU(inplace=True),  # Activation function\n",
        "\n",
        "          # Convolution Layer 4\n",
        "          nn.Conv2d(in_channels=64, out_channels=64, kernel_size=(3, 3), padding=0, stride=1),  # 64 3x3 kernels\n",
        "          nn.BatchNorm2d(64),  # Normalize each feature map\n",
        "          nn.ReLU(inplace=True),  # Activation function\n",
        "          nn.MaxPool2d(kernel_size=(2, 2)),  # Pooling with a 2x2 kernel\n",
        "\n",
        "          # Flatten the output\n",
        "          nn.Flatten(),\n",
        "        )\n",
        "\n",
        "        self.classifier = nn.Sequential(\n",
        "          # Fully Connected Layer 5\n",
        "          nn.Linear(in_features=64 * 4 * 4, out_features=512),  # Input size from final convolution output\n",
        "          nn.BatchNorm1d(512),  # Normalize FCN output\n",
        "          nn.ReLU(inplace=True),  # Activation function\n",
        "\n",
        "          # Fully Connected Layer 6\n",
        "          nn.Dropout(0.2),  # Dropout with 20%\n",
        "          nn.Linear(in_features=512, out_features=10),  # Final output layer with 10 nodes (one for each class)\n",
        "          nn.Softmax(dim=1)  # Softmax activation for classification\n",
        "        )\n",
        "\n",
        "    def forward(self, x):\n",
        "        x = self.features(x)\n",
        "        x = self.classifier(x)\n",
        "        return x\n",
        "\n",
        "# Lightweight neural network class to be used as student:\n",
        "class StudentNN(nn.Module):\n",
        "    def __init__(self, num_classes=10, conv2_feature_count = 4, linear_feature_count = 4):\n",
        "        super(StudentNN, self).__init__()\n",
        "        self.features = nn.Sequential(\n",
        "            # Convolution Layer 1\n",
        "            nn.Conv2d(in_channels=1, out_channels=8, kernel_size=(3, 3), padding=0, stride=1),  # Fewer filters\n",
        "            nn.BatchNorm2d(8),\n",
        "            nn.ReLU(inplace=True),\n",
        "\n",
        "            # Convolution Layer 2\n",
        "            nn.Conv2d(in_channels=8, out_channels=conv2_feature_count, kernel_size=(3, 3), padding=0, stride=1),  # Fewer filters\n",
        "            nn.BatchNorm2d(conv2_feature_count),\n",
        "            nn.ReLU(inplace=True),\n",
        "            nn.MaxPool2d(kernel_size=(2, 2)),\n",
        "\n",
        "            # Flatten the output\n",
        "            nn.Flatten(),\n",
        "        )\n",
        "\n",
        "        self.classifier = nn.Sequential(\n",
        "            # Fully Connected Layer 3\n",
        "            ## changed in_features=32 * 6 * 6 to in_features=16 * 12 * 12\n",
        "            nn.Linear(in_features=conv2_feature_count * 12 * 12, out_features=linear_feature_count),  # changed 128 --> linear_feature_count\n",
        "            nn.BatchNorm1d(linear_feature_count),\n",
        "            nn.ReLU(inplace=True),\n",
        "\n",
        "            # Fully Connected Layer 4\n",
        "            nn.Dropout(0.2),\n",
        "            nn.Linear(in_features=linear_feature_count, out_features=num_classes),  # Output layer\n",
        "            nn.Softmax(dim=1)\n",
        "        )\n",
        "\n",
        "    def forward(self, x):\n",
        "        x = self.features(x)\n",
        "        x = self.classifier(x)\n",
        "        return x\n"
      ],
      "metadata": {
        "id": "x7T_9M1m3_Oh"
      },
      "execution_count": 13,
      "outputs": []
    },
    {
      "cell_type": "code",
      "source": [
        "## Distillation\n",
        "\n",
        "def train(model, train_loader, epochs, learning_rate, device):\n",
        "    criterion = nn.CrossEntropyLoss()\n",
        "    optimizer = optim.Adam(model.parameters(), lr=learning_rate)\n",
        "\n",
        "    model.train()\n",
        "\n",
        "    for epoch in range(epochs):\n",
        "        running_loss = 0.0\n",
        "        for inputs, labels in train_loader:\n",
        "            # inputs: A collection of batch_size images\n",
        "            # labels: A vector of dimensionality batch_size with integers denoting class of each image\n",
        "            inputs, labels = inputs.to(device), labels.to(device)\n",
        "\n",
        "            optimizer.zero_grad()\n",
        "            outputs = model(inputs)\n",
        "\n",
        "            # outputs: Output of the network for the collection of images. A tensor of dimensionality batch_size x num_classes\n",
        "            # labels: The actual labels of the images. Vector of dimensionality batch_size\n",
        "            loss = criterion(outputs, labels)\n",
        "            loss.backward()\n",
        "            optimizer.step()\n",
        "\n",
        "            running_loss += loss.item()\n",
        "\n",
        "        print(f\"Epoch {epoch+1}/{epochs}, Loss: {running_loss / len(train_loader)}\")\n",
        "\n",
        "def test(model, test_loader, device):\n",
        "    model.to(device)\n",
        "    model.eval()\n",
        "\n",
        "    correct = 0\n",
        "    total = 0\n",
        "\n",
        "    with torch.no_grad():\n",
        "        for inputs, labels in test_loader:\n",
        "            inputs, labels = inputs.to(device), labels.to(device)\n",
        "\n",
        "            outputs = model(inputs)\n",
        "            _, predicted = torch.max(outputs.data, 1)\n",
        "\n",
        "            total += labels.size(0)\n",
        "            correct += (predicted == labels).sum().item()\n",
        "\n",
        "    accuracy = 100 * correct / total\n",
        "    print(f\"Test Accuracy: {accuracy:.2f}%\")\n",
        "    return accuracy"
      ],
      "metadata": {
        "id": "R6kFONVK9t29"
      },
      "execution_count": 14,
      "outputs": []
    },
    {
      "cell_type": "code",
      "source": [
        "## Distillation\n",
        "\n",
        "def train_knowledge_distillation(teacher, student, train_loader, epochs, learning_rate, T, soft_target_loss_weight, ce_loss_weight, device):\n",
        "    ce_loss = nn.CrossEntropyLoss()\n",
        "    optimizer = optim.Adam(student.parameters(), lr=learning_rate)\n",
        "\n",
        "    teacher.eval()  # Teacher set to evaluation mode\n",
        "    student.train() # Student to train mode\n",
        "\n",
        "    for epoch in range(epochs):\n",
        "        running_loss = 0.0\n",
        "        for inputs, labels in train_loader:\n",
        "            inputs, labels = inputs.to(device), labels.to(device)\n",
        "\n",
        "            optimizer.zero_grad()\n",
        "\n",
        "            # Forward pass with the teacher model - do not save gradients here as we do not change the teacher's weights\n",
        "            with torch.no_grad():\n",
        "                teacher_logits = teacher(inputs)\n",
        "\n",
        "            # Forward pass with the student model\n",
        "            student_logits = student(inputs)\n",
        "\n",
        "            #Soften the student logits by applying softmax first and log() second\n",
        "            soft_targets = nn.functional.softmax(teacher_logits / T, dim=-1)\n",
        "            soft_prob = nn.functional.log_softmax(student_logits / T, dim=-1)\n",
        "\n",
        "            # Calculate the soft targets loss. Scaled by T**2 as suggested by the authors of the paper \"Distilling the knowledge in a neural network\"\n",
        "            soft_targets_loss = torch.sum(soft_targets * (soft_targets.log() - soft_prob)) / soft_prob.size()[0] * (T**2)\n",
        "\n",
        "            # Calculate the true label loss\n",
        "            label_loss = ce_loss(student_logits, labels)\n",
        "\n",
        "            # Weighted sum of the two losses\n",
        "            loss = soft_target_loss_weight * soft_targets_loss + ce_loss_weight * label_loss\n",
        "\n",
        "            loss.backward()\n",
        "            optimizer.step()\n",
        "\n",
        "            running_loss += loss.item()\n",
        "\n",
        "        print(f\"Epoch {epoch+1}/{epochs}, Loss: {running_loss / len(train_loader)}\")"
      ],
      "metadata": {
        "id": "F0RINiAXBHk2"
      },
      "execution_count": 15,
      "outputs": []
    },
    {
      "cell_type": "code",
      "source": [
        "## Distillation\n",
        "\n",
        "torch.manual_seed(42)\n",
        "nn_teacher = TeacherNN(num_classes=10).to(device)\n",
        "train(nn_teacher, train_loader, epochs=NUM_EPOCHS, learning_rate=0.001, device=device)\n",
        "test_accuracy_teacher = test(nn_teacher, test_loader, device)\n",
        "\n",
        "# Instantiate the Student network:\n",
        "torch.manual_seed(42)\n",
        "nn_student = StudentNN(num_classes=10, conv2_feature_count=4, linear_feature_count=4).to(device)"
      ],
      "metadata": {
        "colab": {
          "base_uri": "https://localhost:8080/"
        },
        "id": "hiBfaRd8952_",
        "outputId": "5783da6c-cb8b-46f4-a328-48339567e120"
      },
      "execution_count": 16,
      "outputs": [
        {
          "output_type": "stream",
          "name": "stdout",
          "text": [
            "Epoch 1/1, Loss: 1.5091872396667798\n",
            "Test Accuracy: 98.60%\n"
          ]
        }
      ]
    },
    {
      "cell_type": "code",
      "source": [
        "## Distillation\n",
        "torch.manual_seed(42)\n",
        "new_nn_student = StudentNN(num_classes=10).to(device)"
      ],
      "metadata": {
        "id": "TMBFUtwuK_r0"
      },
      "execution_count": 17,
      "outputs": []
    },
    {
      "cell_type": "code",
      "source": [
        "## Distillation\n",
        "\n",
        "## Print the total number of parameters in each model:\n",
        "\n",
        "total_params_teacher = \"{:,}\".format(sum(p.numel() for p in nn_teacher.parameters()))\n",
        "print(f\"TeacherNN parameters: {total_params_teacher}\")\n",
        "total_params_student = \"{:,}\".format(sum(p.numel() for p in nn_student.parameters()))\n",
        "print(f\"StudentNN parameters: {total_params_student}\")"
      ],
      "metadata": {
        "colab": {
          "base_uri": "https://localhost:8080/"
        },
        "id": "VuYKuYXpQPKn",
        "outputId": "08939a13-5c0a-47d4-d0df-a30d6fe63843"
      },
      "execution_count": 18,
      "outputs": [
        {
          "output_type": "stream",
          "name": "stdout",
          "text": [
            "TeacherNN parameters: 596,330\n",
            "StudentNN parameters: 2,762\n"
          ]
        }
      ]
    },
    {
      "cell_type": "code",
      "source": [
        "## Distillation\n",
        "\n",
        "## Train and test the lightweight network with cross entropy loss:\n",
        "\n",
        "start_student_train = time.perf_counter()\n",
        "train(nn_student, train_loader, epochs=NUM_EPOCHS, learning_rate=0.001, device=device) ###\n",
        "end_student_train = time.perf_counter()\n",
        "print(f\"Student training time: {end_student_train - start_student_train:0.4f} seconds\")\n",
        "\n",
        "test_accuracy_student_ce = test(nn_student, test_loader, device)"
      ],
      "metadata": {
        "colab": {
          "base_uri": "https://localhost:8080/"
        },
        "id": "uEY9aX7mQy_m",
        "outputId": "2a1a6528-0c54-400d-ede3-b1f414dff8f4"
      },
      "execution_count": 19,
      "outputs": [
        {
          "output_type": "stream",
          "name": "stdout",
          "text": [
            "Epoch 1/1, Loss: 1.9836894825696945\n",
            "Student training time: 26.2027 seconds\n",
            "Test Accuracy: 85.33%\n"
          ]
        }
      ]
    },
    {
      "cell_type": "code",
      "source": [
        "## Distillation\n",
        "\n",
        "print(f\"Teacher accuracy: {test_accuracy_teacher:.2f}%\")\n",
        "print(f\"Student accuracy: {test_accuracy_student_ce:.2f}%\")"
      ],
      "metadata": {
        "colab": {
          "base_uri": "https://localhost:8080/"
        },
        "id": "GzW3hKP5RVLF",
        "outputId": "76a7893d-3667-4a5f-c1b2-bfee1463996e"
      },
      "execution_count": 20,
      "outputs": [
        {
          "output_type": "stream",
          "name": "stdout",
          "text": [
            "Teacher accuracy: 98.60%\n",
            "Student accuracy: 85.33%\n"
          ]
        }
      ]
    },
    {
      "cell_type": "code",
      "source": [
        "## Distillation loss is calculated from the logits of the networks. It only returns gradients to the student:\n",
        "\n",
        "# Apply ``train_knowledge_distillation`` with a temperature of 2, to smooth the probability curve and\n",
        "# (hopefully) provide richer information about the teacher's behavior regarding the other 9/10 classes not selected each time\n",
        "start_student_distill = time.perf_counter()\n",
        "train_knowledge_distillation(teacher=nn_teacher, student=new_nn_student, train_loader=train_loader, epochs=NUM_EPOCHS, learning_rate=0.001, T=2, soft_target_loss_weight=0.25, ce_loss_weight=0.75, device=device) ###\n",
        "end_student_distill = time.perf_counter()\n",
        "print(f\"Student training time: {end_student_distill - start_student_distill:0.4f} seconds\")\n",
        "\n",
        "test_accuracy_student_ce_and_kd = test(new_nn_student, test_loader, device)\n",
        "\n",
        "# Compare the student test accuracy with and without the teacher, after distillation\n",
        "print(f\"Teacher accuracy: {test_accuracy_teacher:.2f}%\")\n",
        "print(f\"Student accuracy without teacher: {test_accuracy_student_ce:.2f}%\")\n",
        "print(f\"Student accuracy with knowledge distillation: {test_accuracy_student_ce_and_kd:.2f}%\")"
      ],
      "metadata": {
        "colab": {
          "base_uri": "https://localhost:8080/"
        },
        "id": "a5Q5CAOeSun1",
        "outputId": "35ce3993-27df-4b85-b218-a48b879be2e8"
      },
      "execution_count": 21,
      "outputs": [
        {
          "output_type": "stream",
          "name": "stdout",
          "text": [
            "Epoch 1/1, Loss: 1.5168607250849406\n",
            "Student training time: 40.2797 seconds\n",
            "Test Accuracy: 87.48%\n",
            "Teacher accuracy: 98.60%\n",
            "Student accuracy without teacher: 85.33%\n",
            "Student accuracy with knowledge distillation: 87.48%\n"
          ]
        }
      ]
    },
    {
      "cell_type": "code",
      "source": [
        "for i in range(8):\n",
        "  trained_nn_student = StudentNN(num_classes=10, conv2_feature_count=4+i, linear_feature_count=4+i).to(device)\n",
        "  start_student_distill = time.perf_counter()\n",
        "  train_knowledge_distillation(teacher=nn_teacher, student=trained_nn_student, train_loader=train_loader, epochs=NUM_EPOCHS, learning_rate=0.001, T=2, soft_target_loss_weight=0.25, ce_loss_weight=0.75, device=device)\n",
        "  end_student_distill = time.perf_counter()\n",
        "  total_params_student = \"{:,}\".format(sum(p.numel() for p in trained_nn_student.parameters()))\n",
        "  print(f\"TeacherNN parameters: {total_params_teacher}\")\n",
        "  print(f\"StudentNN parameters: {total_params_student}\")\n",
        "  print(f\"Student training time: {end_student_distill - start_student_distill:0.4f} seconds\")\n",
        "  test_accuracy_student_kd = test(trained_nn_student, test_loader, device)\n",
        "  print(f\"Student accuracy with knowledge distillation: {test_accuracy_student_kd:.2f}%\\n\")\n"
      ],
      "metadata": {
        "id": "qLsEX_EHB34F",
        "outputId": "bf87ae92-b936-40c0-a898-42fe6bce0033",
        "colab": {
          "base_uri": "https://localhost:8080/"
        }
      },
      "execution_count": 22,
      "outputs": [
        {
          "output_type": "stream",
          "name": "stdout",
          "text": [
            "Epoch 1/1, Loss: 1.5045831643342973\n",
            "TeacherNN parameters: 596,330\n",
            "StudentNN parameters: 2,762\n",
            "Student training time: 40.8296 seconds\n",
            "Test Accuracy: 85.82%\n",
            "Student accuracy with knowledge distillation: 85.82%\n",
            "\n",
            "Epoch 1/1, Loss: 1.4466477553844452\n",
            "TeacherNN parameters: 596,330\n",
            "StudentNN parameters: 4,146\n",
            "Student training time: 41.0082 seconds\n",
            "Test Accuracy: 92.82%\n",
            "Student accuracy with knowledge distillation: 92.82%\n",
            "\n",
            "Epoch 1/1, Loss: 1.411181554198265\n",
            "TeacherNN parameters: 596,330\n",
            "StudentNN parameters: 5,818\n",
            "Student training time: 40.8024 seconds\n",
            "Test Accuracy: 95.15%\n",
            "Student accuracy with knowledge distillation: 95.15%\n",
            "\n",
            "Epoch 1/1, Loss: 1.3667250565290452\n",
            "TeacherNN parameters: 596,330\n",
            "StudentNN parameters: 7,778\n",
            "Student training time: 40.2962 seconds\n",
            "Test Accuracy: 95.45%\n",
            "Student accuracy with knowledge distillation: 95.45%\n",
            "\n",
            "Epoch 1/1, Loss: 1.3291251198649408\n",
            "TeacherNN parameters: 596,330\n",
            "StudentNN parameters: 10,026\n",
            "Student training time: 42.4380 seconds\n",
            "Test Accuracy: 96.40%\n",
            "Student accuracy with knowledge distillation: 96.40%\n",
            "\n",
            "Epoch 1/1, Loss: 1.3071654125849406\n",
            "TeacherNN parameters: 596,330\n",
            "StudentNN parameters: 12,562\n",
            "Student training time: 42.2225 seconds\n",
            "Test Accuracy: 96.83%\n",
            "Student accuracy with knowledge distillation: 96.83%\n",
            "\n",
            "Epoch 1/1, Loss: 1.282255508363247\n",
            "TeacherNN parameters: 596,330\n",
            "StudentNN parameters: 15,386\n",
            "Student training time: 42.5244 seconds\n",
            "Test Accuracy: 97.62%\n",
            "Student accuracy with knowledge distillation: 97.62%\n",
            "\n",
            "Epoch 1/1, Loss: 1.2655861927668253\n",
            "TeacherNN parameters: 596,330\n",
            "StudentNN parameters: 18,498\n",
            "Student training time: 42.1832 seconds\n",
            "Test Accuracy: 97.02%\n",
            "Student accuracy with knowledge distillation: 97.02%\n",
            "\n"
          ]
        }
      ]
    }
  ]
}